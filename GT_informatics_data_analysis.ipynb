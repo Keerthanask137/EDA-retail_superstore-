{
 "cells": [
  {
   "cell_type": "code",
   "execution_count": 1,
   "id": "36a7f91d",
   "metadata": {},
   "outputs": [],
   "source": [
    "import pandas as pd\n",
    "import numpy as np\n",
    "import matplotlib.pyplot as plt\n",
    "%matplotlib inline\n",
    "import seaborn as sns\n",
    "import datetime as dt\n",
    "from IPython import get_ipython\n",
    "import warnings\n",
    "warnings.filterwarnings(\"ignore\")\n",
    "\n",
    "\n",
    "\n",
    "pd.set_option('max_columns', None)"
   ]
  },
  {
   "cell_type": "markdown",
   "id": "7b33bc48",
   "metadata": {},
   "source": [
    "### Importing the data "
   ]
  },
  {
   "cell_type": "code",
   "execution_count": 2,
   "id": "51221082",
   "metadata": {},
   "outputs": [],
   "source": [
    "data=pd.read_excel(\"Quotes_Per_Period.xlsx\")"
   ]
  },
  {
   "cell_type": "code",
   "execution_count": 3,
   "id": "a2c5576a",
   "metadata": {},
   "outputs": [
    {
     "data": {
      "text/html": [
       "<div>\n",
       "<style scoped>\n",
       "    .dataframe tbody tr th:only-of-type {\n",
       "        vertical-align: middle;\n",
       "    }\n",
       "\n",
       "    .dataframe tbody tr th {\n",
       "        vertical-align: top;\n",
       "    }\n",
       "\n",
       "    .dataframe thead th {\n",
       "        text-align: right;\n",
       "    }\n",
       "</style>\n",
       "<table border=\"1\" class=\"dataframe\">\n",
       "  <thead>\n",
       "    <tr style=\"text-align: right;\">\n",
       "      <th></th>\n",
       "      <th>Created Date</th>\n",
       "      <th>Close Date</th>\n",
       "      <th>Customer Ship Date</th>\n",
       "      <th>Multiple</th>\n",
       "      <th>Lead Type</th>\n",
       "      <th>Sales Manager</th>\n",
       "      <th>Account Name</th>\n",
       "      <th>Opportunity Name</th>\n",
       "      <th>Process</th>\n",
       "      <th>Amount</th>\n",
       "      <th>Shipping Account</th>\n",
       "      <th>Invoice Total</th>\n",
       "      <th>Customer PO#</th>\n",
       "      <th>Facility</th>\n",
       "      <th>Facility Quote #</th>\n",
       "      <th>Total Project Cost</th>\n",
       "      <th>GP%</th>\n",
       "      <th>Opportunity Owner: Manager</th>\n",
       "    </tr>\n",
       "  </thead>\n",
       "  <tbody>\n",
       "    <tr>\n",
       "      <th>0</th>\n",
       "      <td>2021-09-16 00:00:00</td>\n",
       "      <td>2022-01-01</td>\n",
       "      <td>NaT</td>\n",
       "      <td>0.0</td>\n",
       "      <td>Existing</td>\n",
       "      <td>Justin Howard</td>\n",
       "      <td>SACO</td>\n",
       "      <td>13952</td>\n",
       "      <td>Molding</td>\n",
       "      <td>188812.5</td>\n",
       "      <td>TBD</td>\n",
       "      <td>188812.5</td>\n",
       "      <td>LS-21-2348-GRD04</td>\n",
       "      <td>Hord Rapidtools</td>\n",
       "      <td>NaN</td>\n",
       "      <td>119647.5</td>\n",
       "      <td>36.63</td>\n",
       "      <td>NaN</td>\n",
       "    </tr>\n",
       "    <tr>\n",
       "      <th>1</th>\n",
       "      <td>2022-01-01 00:00:00</td>\n",
       "      <td>2022-01-01</td>\n",
       "      <td>NaT</td>\n",
       "      <td>0.0</td>\n",
       "      <td>Existing</td>\n",
       "      <td>Justin Howard</td>\n",
       "      <td>SACO</td>\n",
       "      <td>14228</td>\n",
       "      <td>MJF</td>\n",
       "      <td>0.0</td>\n",
       "      <td>249726109</td>\n",
       "      <td>0.0</td>\n",
       "      <td>NO CHARGE</td>\n",
       "      <td>FORECAST 3D</td>\n",
       "      <td>NaN</td>\n",
       "      <td>50.0</td>\n",
       "      <td>#Error!</td>\n",
       "      <td>NaN</td>\n",
       "    </tr>\n",
       "    <tr>\n",
       "      <th>2</th>\n",
       "      <td>2021-12-22 00:00:00</td>\n",
       "      <td>2022-01-01</td>\n",
       "      <td>NaT</td>\n",
       "      <td>0.0</td>\n",
       "      <td>Existing</td>\n",
       "      <td>Justin Howard</td>\n",
       "      <td>KCF Technologies</td>\n",
       "      <td>14215</td>\n",
       "      <td>Molding</td>\n",
       "      <td>25150.0</td>\n",
       "      <td>9E3461</td>\n",
       "      <td>25150.0</td>\n",
       "      <td>011924</td>\n",
       "      <td>Multiple</td>\n",
       "      <td>NaN</td>\n",
       "      <td>17330.0</td>\n",
       "      <td>31.09</td>\n",
       "      <td>NaN</td>\n",
       "    </tr>\n",
       "    <tr>\n",
       "      <th>3</th>\n",
       "      <td>2022-01-04 00:00:00</td>\n",
       "      <td>2022-01-04</td>\n",
       "      <td>NaT</td>\n",
       "      <td>0.0</td>\n",
       "      <td>Existing</td>\n",
       "      <td>Justin Howard</td>\n",
       "      <td>Andrew Barber</td>\n",
       "      <td>14232</td>\n",
       "      <td>CNC</td>\n",
       "      <td>2000.0</td>\n",
       "      <td>NaN</td>\n",
       "      <td>2000.0</td>\n",
       "      <td>NaN</td>\n",
       "      <td>NaN</td>\n",
       "      <td>NaN</td>\n",
       "      <td>1300.0</td>\n",
       "      <td>35</td>\n",
       "      <td>NaN</td>\n",
       "    </tr>\n",
       "    <tr>\n",
       "      <th>4</th>\n",
       "      <td>2021-12-20 00:00:00</td>\n",
       "      <td>2022-01-04</td>\n",
       "      <td>2022-01-26</td>\n",
       "      <td>0.0</td>\n",
       "      <td>Existing</td>\n",
       "      <td>Justin Howard</td>\n",
       "      <td>CNH Industrial America LLC</td>\n",
       "      <td>14199</td>\n",
       "      <td>CNC</td>\n",
       "      <td>3000.0</td>\n",
       "      <td>PF</td>\n",
       "      <td>3000.0</td>\n",
       "      <td>0G35620241</td>\n",
       "      <td>BOFONG RAPID LIlVIITED</td>\n",
       "      <td>14199</td>\n",
       "      <td>2100.0</td>\n",
       "      <td>30</td>\n",
       "      <td>NaN</td>\n",
       "    </tr>\n",
       "  </tbody>\n",
       "</table>\n",
       "</div>"
      ],
      "text/plain": [
       "          Created Date Close Date Customer Ship Date  Multiple Lead Type  \\\n",
       "0  2021-09-16 00:00:00 2022-01-01                NaT       0.0  Existing   \n",
       "1  2022-01-01 00:00:00 2022-01-01                NaT       0.0  Existing   \n",
       "2  2021-12-22 00:00:00 2022-01-01                NaT       0.0  Existing   \n",
       "3  2022-01-04 00:00:00 2022-01-04                NaT       0.0  Existing   \n",
       "4  2021-12-20 00:00:00 2022-01-04         2022-01-26       0.0  Existing   \n",
       "\n",
       "   Sales Manager                Account Name Opportunity Name  Process  \\\n",
       "0  Justin Howard                        SACO            13952  Molding   \n",
       "1  Justin Howard                        SACO            14228      MJF   \n",
       "2  Justin Howard            KCF Technologies            14215  Molding   \n",
       "3  Justin Howard               Andrew Barber            14232      CNC   \n",
       "4  Justin Howard  CNH Industrial America LLC            14199      CNC   \n",
       "\n",
       "     Amount Shipping Account  Invoice Total      Customer PO#  \\\n",
       "0  188812.5              TBD       188812.5  LS-21-2348-GRD04   \n",
       "1       0.0        249726109            0.0         NO CHARGE   \n",
       "2   25150.0           9E3461        25150.0            011924   \n",
       "3    2000.0              NaN         2000.0               NaN   \n",
       "4    3000.0               PF         3000.0        0G35620241   \n",
       "\n",
       "                 Facility Facility Quote #  Total Project Cost      GP%  \\\n",
       "0         Hord Rapidtools              NaN            119647.5    36.63   \n",
       "1             FORECAST 3D              NaN                50.0  #Error!   \n",
       "2                Multiple              NaN             17330.0    31.09   \n",
       "3                     NaN              NaN              1300.0       35   \n",
       "4  BOFONG RAPID LIlVIITED            14199              2100.0       30   \n",
       "\n",
       "   Opportunity Owner: Manager  \n",
       "0                         NaN  \n",
       "1                         NaN  \n",
       "2                         NaN  \n",
       "3                         NaN  \n",
       "4                         NaN  "
      ]
     },
     "execution_count": 3,
     "metadata": {},
     "output_type": "execute_result"
    }
   ],
   "source": [
    "data.head()"
   ]
  },
  {
   "cell_type": "markdown",
   "id": "b75b8321",
   "metadata": {},
   "source": [
    "### Drop the rows where all values are null"
   ]
  },
  {
   "cell_type": "code",
   "execution_count": null,
   "id": "9ef8efd6",
   "metadata": {},
   "outputs": [],
   "source": []
  },
  {
   "cell_type": "markdown",
   "id": "c1dda103",
   "metadata": {},
   "source": [
    "### Checking the shape , column names, column information"
   ]
  },
  {
   "cell_type": "code",
   "execution_count": 4,
   "id": "92dcf7f8",
   "metadata": {},
   "outputs": [
    {
     "data": {
      "text/plain": [
       "(903, 18)"
      ]
     },
     "execution_count": 4,
     "metadata": {},
     "output_type": "execute_result"
    }
   ],
   "source": [
    "data.shape"
   ]
  },
  {
   "cell_type": "code",
   "execution_count": 5,
   "id": "f2cc9b2a",
   "metadata": {},
   "outputs": [
    {
     "data": {
      "text/plain": [
       "Index(['Created Date', 'Close Date', 'Customer Ship Date', 'Multiple',\n",
       "       'Lead Type', 'Sales Manager', 'Account Name', 'Opportunity Name',\n",
       "       'Process', 'Amount', 'Shipping Account', 'Invoice Total',\n",
       "       'Customer PO#', 'Facility', 'Facility Quote #', 'Total Project Cost',\n",
       "       'GP%', 'Opportunity Owner: Manager'],\n",
       "      dtype='object')"
      ]
     },
     "execution_count": 5,
     "metadata": {},
     "output_type": "execute_result"
    }
   ],
   "source": [
    "data.columns"
   ]
  },
  {
   "cell_type": "code",
   "execution_count": 6,
   "id": "2e10e7ad",
   "metadata": {},
   "outputs": [
    {
     "name": "stdout",
     "output_type": "stream",
     "text": [
      "<class 'pandas.core.frame.DataFrame'>\n",
      "RangeIndex: 903 entries, 0 to 902\n",
      "Data columns (total 18 columns):\n",
      " #   Column                      Non-Null Count  Dtype         \n",
      "---  ------                      --------------  -----         \n",
      " 0   Created Date                902 non-null    object        \n",
      " 1   Close Date                  897 non-null    datetime64[ns]\n",
      " 2   Customer Ship Date          283 non-null    datetime64[ns]\n",
      " 3   Multiple                    897 non-null    float64       \n",
      " 4   Lead Type                   888 non-null    object        \n",
      " 5   Sales Manager               897 non-null    object        \n",
      " 6   Account Name                897 non-null    object        \n",
      " 7   Opportunity Name            897 non-null    object        \n",
      " 8   Process                     896 non-null    object        \n",
      " 9   Amount                      842 non-null    float64       \n",
      " 10  Shipping Account            493 non-null    object        \n",
      " 11  Invoice Total               897 non-null    float64       \n",
      " 12  Customer PO#                494 non-null    object        \n",
      " 13  Facility                    506 non-null    object        \n",
      " 14  Facility Quote #            276 non-null    object        \n",
      " 15  Total Project Cost          897 non-null    float64       \n",
      " 16  GP%                         897 non-null    object        \n",
      " 17  Opportunity Owner: Manager  0 non-null      float64       \n",
      "dtypes: datetime64[ns](2), float64(5), object(11)\n",
      "memory usage: 127.1+ KB\n"
     ]
    }
   ],
   "source": [
    "data.info()"
   ]
  },
  {
   "cell_type": "markdown",
   "id": "f97bf648",
   "metadata": {},
   "source": [
    "### Renaming the columns"
   ]
  },
  {
   "cell_type": "code",
   "execution_count": 7,
   "id": "3555cf84",
   "metadata": {},
   "outputs": [],
   "source": [
    "data.rename(columns={'Created Date':\"created_date\",'Close Date':\"close_date\",'Customer Ship Date':\"custo_shp_dt\",'Lead Type':\"lead_type\",\"Sales Manager\":\"sales_manager\",\"Account Name\":\"account_name\",\"Opportunity Name\":\"opportunity_name\",'Shipping Account':\"shipping_account\",'Invoice Total':\"invoice_total\",'Customer PO#':\"customer_po\",'Facility Quote #':\"facility_quote\",'Total Project Cost':\"total_project_cost\",'GP%':\"gp_percent\"},inplace=True)"
   ]
  },
  {
   "cell_type": "code",
   "execution_count": null,
   "id": "d2fc212b",
   "metadata": {},
   "outputs": [],
   "source": [
    "data.head()"
   ]
  },
  {
   "cell_type": "code",
   "execution_count": 8,
   "id": "80aa5d31",
   "metadata": {},
   "outputs": [
    {
     "data": {
      "text/plain": [
       "Index(['created_date', 'close_date', 'custo_shp_dt', 'Multiple', 'lead_type',\n",
       "       'sales_manager', 'account_name', 'opportunity_name', 'Process',\n",
       "       'Amount', 'shipping_account', 'invoice_total', 'customer_po',\n",
       "       'Facility', 'facility_quote', 'total_project_cost', 'gp_percent',\n",
       "       'Opportunity Owner: Manager'],\n",
       "      dtype='object')"
      ]
     },
     "execution_count": 8,
     "metadata": {},
     "output_type": "execute_result"
    }
   ],
   "source": [
    "data.columns"
   ]
  },
  {
   "cell_type": "code",
   "execution_count": null,
   "id": "793eb987",
   "metadata": {},
   "outputs": [],
   "source": [
    "#data.rename(columns={\"created_date\":\"createddate\"},inplace=True)"
   ]
  },
  {
   "cell_type": "code",
   "execution_count": null,
   "id": "77fba584",
   "metadata": {},
   "outputs": [],
   "source": [
    "#data.columns"
   ]
  },
  {
   "cell_type": "code",
   "execution_count": null,
   "id": "ea8d0c56",
   "metadata": {},
   "outputs": [],
   "source": [
    "#data['created_date'] = pd.to_datetime(data['created_date'])"
   ]
  },
  {
   "cell_type": "code",
   "execution_count": 9,
   "id": "71c667a5",
   "metadata": {},
   "outputs": [
    {
     "data": {
      "text/html": [
       "<div>\n",
       "<style scoped>\n",
       "    .dataframe tbody tr th:only-of-type {\n",
       "        vertical-align: middle;\n",
       "    }\n",
       "\n",
       "    .dataframe tbody tr th {\n",
       "        vertical-align: top;\n",
       "    }\n",
       "\n",
       "    .dataframe thead th {\n",
       "        text-align: right;\n",
       "    }\n",
       "</style>\n",
       "<table border=\"1\" class=\"dataframe\">\n",
       "  <thead>\n",
       "    <tr style=\"text-align: right;\">\n",
       "      <th></th>\n",
       "      <th>created_date</th>\n",
       "      <th>close_date</th>\n",
       "      <th>custo_shp_dt</th>\n",
       "      <th>Multiple</th>\n",
       "      <th>lead_type</th>\n",
       "      <th>sales_manager</th>\n",
       "      <th>account_name</th>\n",
       "      <th>opportunity_name</th>\n",
       "      <th>Process</th>\n",
       "      <th>Amount</th>\n",
       "      <th>shipping_account</th>\n",
       "      <th>invoice_total</th>\n",
       "      <th>customer_po</th>\n",
       "      <th>Facility</th>\n",
       "      <th>facility_quote</th>\n",
       "      <th>total_project_cost</th>\n",
       "      <th>gp_percent</th>\n",
       "      <th>Opportunity Owner: Manager</th>\n",
       "    </tr>\n",
       "  </thead>\n",
       "  <tbody>\n",
       "    <tr>\n",
       "      <th>898</th>\n",
       "      <td># Quotes per period</td>\n",
       "      <td>NaT</td>\n",
       "      <td>NaT</td>\n",
       "      <td>NaN</td>\n",
       "      <td>NaN</td>\n",
       "      <td>NaN</td>\n",
       "      <td>NaN</td>\n",
       "      <td>NaN</td>\n",
       "      <td>NaN</td>\n",
       "      <td>NaN</td>\n",
       "      <td>NaN</td>\n",
       "      <td>NaN</td>\n",
       "      <td>NaN</td>\n",
       "      <td>NaN</td>\n",
       "      <td>NaN</td>\n",
       "      <td>NaN</td>\n",
       "      <td>NaN</td>\n",
       "      <td>NaN</td>\n",
       "    </tr>\n",
       "  </tbody>\n",
       "</table>\n",
       "</div>"
      ],
      "text/plain": [
       "            created_date close_date custo_shp_dt  Multiple lead_type  \\\n",
       "898  # Quotes per period        NaT          NaT       NaN       NaN   \n",
       "\n",
       "    sales_manager account_name opportunity_name Process  Amount  \\\n",
       "898           NaN          NaN              NaN     NaN     NaN   \n",
       "\n",
       "    shipping_account  invoice_total customer_po Facility facility_quote  \\\n",
       "898              NaN            NaN         NaN      NaN            NaN   \n",
       "\n",
       "     total_project_cost gp_percent  Opportunity Owner: Manager  \n",
       "898                 NaN        NaN                         NaN  "
      ]
     },
     "execution_count": 9,
     "metadata": {},
     "output_type": "execute_result"
    }
   ],
   "source": [
    "data.loc[data['created_date']=='# Quotes per period']"
   ]
  },
  {
   "cell_type": "code",
   "execution_count": 14,
   "id": "c6709ad0",
   "metadata": {},
   "outputs": [],
   "source": [
    "data1 = data.iloc[898:903]"
   ]
  },
  {
   "cell_type": "code",
   "execution_count": 15,
   "id": "c8c4fdb0",
   "metadata": {},
   "outputs": [
    {
     "data": {
      "text/html": [
       "<div>\n",
       "<style scoped>\n",
       "    .dataframe tbody tr th:only-of-type {\n",
       "        vertical-align: middle;\n",
       "    }\n",
       "\n",
       "    .dataframe tbody tr th {\n",
       "        vertical-align: top;\n",
       "    }\n",
       "\n",
       "    .dataframe thead th {\n",
       "        text-align: right;\n",
       "    }\n",
       "</style>\n",
       "<table border=\"1\" class=\"dataframe\">\n",
       "  <thead>\n",
       "    <tr style=\"text-align: right;\">\n",
       "      <th></th>\n",
       "      <th>created_date</th>\n",
       "      <th>close_date</th>\n",
       "      <th>custo_shp_dt</th>\n",
       "      <th>Multiple</th>\n",
       "      <th>lead_type</th>\n",
       "      <th>sales_manager</th>\n",
       "      <th>account_name</th>\n",
       "      <th>opportunity_name</th>\n",
       "      <th>Process</th>\n",
       "      <th>Amount</th>\n",
       "      <th>shipping_account</th>\n",
       "      <th>invoice_total</th>\n",
       "      <th>customer_po</th>\n",
       "      <th>Facility</th>\n",
       "      <th>facility_quote</th>\n",
       "      <th>total_project_cost</th>\n",
       "      <th>gp_percent</th>\n",
       "      <th>Opportunity Owner: Manager</th>\n",
       "    </tr>\n",
       "  </thead>\n",
       "  <tbody>\n",
       "    <tr>\n",
       "      <th>898</th>\n",
       "      <td># Quotes per period</td>\n",
       "      <td>NaT</td>\n",
       "      <td>NaT</td>\n",
       "      <td>NaN</td>\n",
       "      <td>NaN</td>\n",
       "      <td>NaN</td>\n",
       "      <td>NaN</td>\n",
       "      <td>NaN</td>\n",
       "      <td>NaN</td>\n",
       "      <td>NaN</td>\n",
       "      <td>NaN</td>\n",
       "      <td>NaN</td>\n",
       "      <td>NaN</td>\n",
       "      <td>NaN</td>\n",
       "      <td>NaN</td>\n",
       "      <td>NaN</td>\n",
       "      <td>NaN</td>\n",
       "      <td>NaN</td>\n",
       "    </tr>\n",
       "    <tr>\n",
       "      <th>899</th>\n",
       "      <td>Copyright (c) 2000-2022 salesforce.com, inc. A...</td>\n",
       "      <td>NaT</td>\n",
       "      <td>NaT</td>\n",
       "      <td>NaN</td>\n",
       "      <td>NaN</td>\n",
       "      <td>NaN</td>\n",
       "      <td>NaN</td>\n",
       "      <td>NaN</td>\n",
       "      <td>NaN</td>\n",
       "      <td>NaN</td>\n",
       "      <td>NaN</td>\n",
       "      <td>NaN</td>\n",
       "      <td>NaN</td>\n",
       "      <td>NaN</td>\n",
       "      <td>NaN</td>\n",
       "      <td>NaN</td>\n",
       "      <td>NaN</td>\n",
       "      <td>NaN</td>\n",
       "    </tr>\n",
       "    <tr>\n",
       "      <th>900</th>\n",
       "      <td>Confidential Information - Do Not Distribute</td>\n",
       "      <td>NaT</td>\n",
       "      <td>NaT</td>\n",
       "      <td>NaN</td>\n",
       "      <td>NaN</td>\n",
       "      <td>NaN</td>\n",
       "      <td>NaN</td>\n",
       "      <td>NaN</td>\n",
       "      <td>NaN</td>\n",
       "      <td>NaN</td>\n",
       "      <td>NaN</td>\n",
       "      <td>NaN</td>\n",
       "      <td>NaN</td>\n",
       "      <td>NaN</td>\n",
       "      <td>NaN</td>\n",
       "      <td>NaN</td>\n",
       "      <td>NaN</td>\n",
       "      <td>NaN</td>\n",
       "    </tr>\n",
       "    <tr>\n",
       "      <th>901</th>\n",
       "      <td>Generated By: Mallu H 9/26/2022 2:04 PM</td>\n",
       "      <td>NaT</td>\n",
       "      <td>NaT</td>\n",
       "      <td>NaN</td>\n",
       "      <td>NaN</td>\n",
       "      <td>NaN</td>\n",
       "      <td>NaN</td>\n",
       "      <td>NaN</td>\n",
       "      <td>NaN</td>\n",
       "      <td>NaN</td>\n",
       "      <td>NaN</td>\n",
       "      <td>NaN</td>\n",
       "      <td>NaN</td>\n",
       "      <td>NaN</td>\n",
       "      <td>NaN</td>\n",
       "      <td>NaN</td>\n",
       "      <td>NaN</td>\n",
       "      <td>NaN</td>\n",
       "    </tr>\n",
       "    <tr>\n",
       "      <th>902</th>\n",
       "      <td>PF</td>\n",
       "      <td>NaT</td>\n",
       "      <td>NaT</td>\n",
       "      <td>NaN</td>\n",
       "      <td>NaN</td>\n",
       "      <td>NaN</td>\n",
       "      <td>NaN</td>\n",
       "      <td>NaN</td>\n",
       "      <td>NaN</td>\n",
       "      <td>NaN</td>\n",
       "      <td>NaN</td>\n",
       "      <td>NaN</td>\n",
       "      <td>NaN</td>\n",
       "      <td>NaN</td>\n",
       "      <td>NaN</td>\n",
       "      <td>NaN</td>\n",
       "      <td>NaN</td>\n",
       "      <td>NaN</td>\n",
       "    </tr>\n",
       "  </tbody>\n",
       "</table>\n",
       "</div>"
      ],
      "text/plain": [
       "                                          created_date close_date  \\\n",
       "898                                # Quotes per period        NaT   \n",
       "899  Copyright (c) 2000-2022 salesforce.com, inc. A...        NaT   \n",
       "900       Confidential Information - Do Not Distribute        NaT   \n",
       "901            Generated By: Mallu H 9/26/2022 2:04 PM        NaT   \n",
       "902                                                 PF        NaT   \n",
       "\n",
       "    custo_shp_dt  Multiple lead_type sales_manager account_name  \\\n",
       "898          NaT       NaN       NaN           NaN          NaN   \n",
       "899          NaT       NaN       NaN           NaN          NaN   \n",
       "900          NaT       NaN       NaN           NaN          NaN   \n",
       "901          NaT       NaN       NaN           NaN          NaN   \n",
       "902          NaT       NaN       NaN           NaN          NaN   \n",
       "\n",
       "    opportunity_name Process  Amount shipping_account  invoice_total  \\\n",
       "898              NaN     NaN     NaN              NaN            NaN   \n",
       "899              NaN     NaN     NaN              NaN            NaN   \n",
       "900              NaN     NaN     NaN              NaN            NaN   \n",
       "901              NaN     NaN     NaN              NaN            NaN   \n",
       "902              NaN     NaN     NaN              NaN            NaN   \n",
       "\n",
       "    customer_po Facility facility_quote  total_project_cost gp_percent  \\\n",
       "898         NaN      NaN            NaN                 NaN        NaN   \n",
       "899         NaN      NaN            NaN                 NaN        NaN   \n",
       "900         NaN      NaN            NaN                 NaN        NaN   \n",
       "901         NaN      NaN            NaN                 NaN        NaN   \n",
       "902         NaN      NaN            NaN                 NaN        NaN   \n",
       "\n",
       "     Opportunity Owner: Manager  \n",
       "898                         NaN  \n",
       "899                         NaN  \n",
       "900                         NaN  \n",
       "901                         NaN  \n",
       "902                         NaN  "
      ]
     },
     "execution_count": 15,
     "metadata": {},
     "output_type": "execute_result"
    }
   ],
   "source": [
    "data1"
   ]
  },
  {
   "cell_type": "code",
   "execution_count": 16,
   "id": "18b95ef4",
   "metadata": {},
   "outputs": [],
   "source": [
    "data.drop([898,899,900,901,902], axis=0, inplace=True)"
   ]
  },
  {
   "cell_type": "code",
   "execution_count": null,
   "id": "48576df4",
   "metadata": {},
   "outputs": [],
   "source": [
    "#data.loc[data['created_date']=='# Quotes per period']\n",
    "#display(data.iloc[900])"
   ]
  },
  {
   "cell_type": "code",
   "execution_count": 17,
   "id": "37935a31",
   "metadata": {},
   "outputs": [
    {
     "data": {
      "text/plain": [
       "(898, 18)"
      ]
     },
     "execution_count": 17,
     "metadata": {},
     "output_type": "execute_result"
    }
   ],
   "source": [
    "data.shape"
   ]
  },
  {
   "cell_type": "code",
   "execution_count": 18,
   "id": "e1c129f4",
   "metadata": {},
   "outputs": [
    {
     "data": {
      "text/html": [
       "<div>\n",
       "<style scoped>\n",
       "    .dataframe tbody tr th:only-of-type {\n",
       "        vertical-align: middle;\n",
       "    }\n",
       "\n",
       "    .dataframe tbody tr th {\n",
       "        vertical-align: top;\n",
       "    }\n",
       "\n",
       "    .dataframe thead th {\n",
       "        text-align: right;\n",
       "    }\n",
       "</style>\n",
       "<table border=\"1\" class=\"dataframe\">\n",
       "  <thead>\n",
       "    <tr style=\"text-align: right;\">\n",
       "      <th></th>\n",
       "      <th>created_date</th>\n",
       "      <th>close_date</th>\n",
       "      <th>custo_shp_dt</th>\n",
       "      <th>Multiple</th>\n",
       "      <th>lead_type</th>\n",
       "      <th>sales_manager</th>\n",
       "      <th>account_name</th>\n",
       "      <th>opportunity_name</th>\n",
       "      <th>Process</th>\n",
       "      <th>Amount</th>\n",
       "      <th>shipping_account</th>\n",
       "      <th>invoice_total</th>\n",
       "      <th>customer_po</th>\n",
       "      <th>Facility</th>\n",
       "      <th>facility_quote</th>\n",
       "      <th>total_project_cost</th>\n",
       "      <th>gp_percent</th>\n",
       "      <th>Opportunity Owner: Manager</th>\n",
       "    </tr>\n",
       "  </thead>\n",
       "  <tbody>\n",
       "    <tr>\n",
       "      <th>0</th>\n",
       "      <td>2021-09-16 00:00:00</td>\n",
       "      <td>2022-01-01</td>\n",
       "      <td>NaT</td>\n",
       "      <td>0.0</td>\n",
       "      <td>Existing</td>\n",
       "      <td>Justin Howard</td>\n",
       "      <td>SACO</td>\n",
       "      <td>13952</td>\n",
       "      <td>Molding</td>\n",
       "      <td>188812.5</td>\n",
       "      <td>TBD</td>\n",
       "      <td>188812.5</td>\n",
       "      <td>LS-21-2348-GRD04</td>\n",
       "      <td>Hord Rapidtools</td>\n",
       "      <td>NaN</td>\n",
       "      <td>119647.5</td>\n",
       "      <td>36.63</td>\n",
       "      <td>NaN</td>\n",
       "    </tr>\n",
       "    <tr>\n",
       "      <th>1</th>\n",
       "      <td>2022-01-01 00:00:00</td>\n",
       "      <td>2022-01-01</td>\n",
       "      <td>NaT</td>\n",
       "      <td>0.0</td>\n",
       "      <td>Existing</td>\n",
       "      <td>Justin Howard</td>\n",
       "      <td>SACO</td>\n",
       "      <td>14228</td>\n",
       "      <td>MJF</td>\n",
       "      <td>0.0</td>\n",
       "      <td>249726109</td>\n",
       "      <td>0.0</td>\n",
       "      <td>NO CHARGE</td>\n",
       "      <td>FORECAST 3D</td>\n",
       "      <td>NaN</td>\n",
       "      <td>50.0</td>\n",
       "      <td>#Error!</td>\n",
       "      <td>NaN</td>\n",
       "    </tr>\n",
       "    <tr>\n",
       "      <th>2</th>\n",
       "      <td>2021-12-22 00:00:00</td>\n",
       "      <td>2022-01-01</td>\n",
       "      <td>NaT</td>\n",
       "      <td>0.0</td>\n",
       "      <td>Existing</td>\n",
       "      <td>Justin Howard</td>\n",
       "      <td>KCF Technologies</td>\n",
       "      <td>14215</td>\n",
       "      <td>Molding</td>\n",
       "      <td>25150.0</td>\n",
       "      <td>9E3461</td>\n",
       "      <td>25150.0</td>\n",
       "      <td>011924</td>\n",
       "      <td>Multiple</td>\n",
       "      <td>NaN</td>\n",
       "      <td>17330.0</td>\n",
       "      <td>31.09</td>\n",
       "      <td>NaN</td>\n",
       "    </tr>\n",
       "    <tr>\n",
       "      <th>3</th>\n",
       "      <td>2022-01-04 00:00:00</td>\n",
       "      <td>2022-01-04</td>\n",
       "      <td>NaT</td>\n",
       "      <td>0.0</td>\n",
       "      <td>Existing</td>\n",
       "      <td>Justin Howard</td>\n",
       "      <td>Andrew Barber</td>\n",
       "      <td>14232</td>\n",
       "      <td>CNC</td>\n",
       "      <td>2000.0</td>\n",
       "      <td>NaN</td>\n",
       "      <td>2000.0</td>\n",
       "      <td>NaN</td>\n",
       "      <td>NaN</td>\n",
       "      <td>NaN</td>\n",
       "      <td>1300.0</td>\n",
       "      <td>35</td>\n",
       "      <td>NaN</td>\n",
       "    </tr>\n",
       "    <tr>\n",
       "      <th>4</th>\n",
       "      <td>2021-12-20 00:00:00</td>\n",
       "      <td>2022-01-04</td>\n",
       "      <td>2022-01-26</td>\n",
       "      <td>0.0</td>\n",
       "      <td>Existing</td>\n",
       "      <td>Justin Howard</td>\n",
       "      <td>CNH Industrial America LLC</td>\n",
       "      <td>14199</td>\n",
       "      <td>CNC</td>\n",
       "      <td>3000.0</td>\n",
       "      <td>PF</td>\n",
       "      <td>3000.0</td>\n",
       "      <td>0G35620241</td>\n",
       "      <td>BOFONG RAPID LIlVIITED</td>\n",
       "      <td>14199</td>\n",
       "      <td>2100.0</td>\n",
       "      <td>30</td>\n",
       "      <td>NaN</td>\n",
       "    </tr>\n",
       "  </tbody>\n",
       "</table>\n",
       "</div>"
      ],
      "text/plain": [
       "          created_date close_date custo_shp_dt  Multiple lead_type  \\\n",
       "0  2021-09-16 00:00:00 2022-01-01          NaT       0.0  Existing   \n",
       "1  2022-01-01 00:00:00 2022-01-01          NaT       0.0  Existing   \n",
       "2  2021-12-22 00:00:00 2022-01-01          NaT       0.0  Existing   \n",
       "3  2022-01-04 00:00:00 2022-01-04          NaT       0.0  Existing   \n",
       "4  2021-12-20 00:00:00 2022-01-04   2022-01-26       0.0  Existing   \n",
       "\n",
       "   sales_manager                account_name opportunity_name  Process  \\\n",
       "0  Justin Howard                        SACO            13952  Molding   \n",
       "1  Justin Howard                        SACO            14228      MJF   \n",
       "2  Justin Howard            KCF Technologies            14215  Molding   \n",
       "3  Justin Howard               Andrew Barber            14232      CNC   \n",
       "4  Justin Howard  CNH Industrial America LLC            14199      CNC   \n",
       "\n",
       "     Amount shipping_account  invoice_total       customer_po  \\\n",
       "0  188812.5              TBD       188812.5  LS-21-2348-GRD04   \n",
       "1       0.0        249726109            0.0         NO CHARGE   \n",
       "2   25150.0           9E3461        25150.0            011924   \n",
       "3    2000.0              NaN         2000.0               NaN   \n",
       "4    3000.0               PF         3000.0        0G35620241   \n",
       "\n",
       "                 Facility facility_quote  total_project_cost gp_percent  \\\n",
       "0         Hord Rapidtools            NaN            119647.5      36.63   \n",
       "1             FORECAST 3D            NaN                50.0    #Error!   \n",
       "2                Multiple            NaN             17330.0      31.09   \n",
       "3                     NaN            NaN              1300.0         35   \n",
       "4  BOFONG RAPID LIlVIITED          14199              2100.0         30   \n",
       "\n",
       "   Opportunity Owner: Manager  \n",
       "0                         NaN  \n",
       "1                         NaN  \n",
       "2                         NaN  \n",
       "3                         NaN  \n",
       "4                         NaN  "
      ]
     },
     "execution_count": 18,
     "metadata": {},
     "output_type": "execute_result"
    }
   ],
   "source": [
    "data.head()"
   ]
  },
  {
   "cell_type": "code",
   "execution_count": 19,
   "id": "252f10dc",
   "metadata": {},
   "outputs": [],
   "source": [
    "data=data.dropna(how='all')"
   ]
  },
  {
   "cell_type": "code",
   "execution_count": 20,
   "id": "7a52f7d0",
   "metadata": {},
   "outputs": [],
   "source": [
    "data.drop([], axis=0, inplace=True)"
   ]
  },
  {
   "cell_type": "code",
   "execution_count": 21,
   "id": "a271f842",
   "metadata": {},
   "outputs": [
    {
     "name": "stdout",
     "output_type": "stream",
     "text": [
      "<class 'pandas.core.frame.DataFrame'>\n",
      "Int64Index: 897 entries, 0 to 896\n",
      "Data columns (total 18 columns):\n",
      " #   Column                      Non-Null Count  Dtype         \n",
      "---  ------                      --------------  -----         \n",
      " 0   created_date                897 non-null    object        \n",
      " 1   close_date                  897 non-null    datetime64[ns]\n",
      " 2   custo_shp_dt                283 non-null    datetime64[ns]\n",
      " 3   Multiple                    897 non-null    float64       \n",
      " 4   lead_type                   888 non-null    object        \n",
      " 5   sales_manager               897 non-null    object        \n",
      " 6   account_name                897 non-null    object        \n",
      " 7   opportunity_name            897 non-null    object        \n",
      " 8   Process                     896 non-null    object        \n",
      " 9   Amount                      842 non-null    float64       \n",
      " 10  shipping_account            493 non-null    object        \n",
      " 11  invoice_total               897 non-null    float64       \n",
      " 12  customer_po                 494 non-null    object        \n",
      " 13  Facility                    506 non-null    object        \n",
      " 14  facility_quote              276 non-null    object        \n",
      " 15  total_project_cost          897 non-null    float64       \n",
      " 16  gp_percent                  897 non-null    object        \n",
      " 17  Opportunity Owner: Manager  0 non-null      float64       \n",
      "dtypes: datetime64[ns](2), float64(5), object(11)\n",
      "memory usage: 165.4+ KB\n"
     ]
    }
   ],
   "source": [
    "data.info()"
   ]
  },
  {
   "cell_type": "code",
   "execution_count": 22,
   "id": "66c05ae4",
   "metadata": {},
   "outputs": [],
   "source": [
    "data['created_date'] = pd.to_datetime(data['created_date'], errors='coerce')"
   ]
  },
  {
   "cell_type": "code",
   "execution_count": 23,
   "id": "24b745df",
   "metadata": {},
   "outputs": [
    {
     "name": "stdout",
     "output_type": "stream",
     "text": [
      "<class 'pandas.core.frame.DataFrame'>\n",
      "Int64Index: 897 entries, 0 to 896\n",
      "Data columns (total 18 columns):\n",
      " #   Column                      Non-Null Count  Dtype         \n",
      "---  ------                      --------------  -----         \n",
      " 0   created_date                897 non-null    datetime64[ns]\n",
      " 1   close_date                  897 non-null    datetime64[ns]\n",
      " 2   custo_shp_dt                283 non-null    datetime64[ns]\n",
      " 3   Multiple                    897 non-null    float64       \n",
      " 4   lead_type                   888 non-null    object        \n",
      " 5   sales_manager               897 non-null    object        \n",
      " 6   account_name                897 non-null    object        \n",
      " 7   opportunity_name            897 non-null    object        \n",
      " 8   Process                     896 non-null    object        \n",
      " 9   Amount                      842 non-null    float64       \n",
      " 10  shipping_account            493 non-null    object        \n",
      " 11  invoice_total               897 non-null    float64       \n",
      " 12  customer_po                 494 non-null    object        \n",
      " 13  Facility                    506 non-null    object        \n",
      " 14  facility_quote              276 non-null    object        \n",
      " 15  total_project_cost          897 non-null    float64       \n",
      " 16  gp_percent                  897 non-null    object        \n",
      " 17  Opportunity Owner: Manager  0 non-null      float64       \n",
      "dtypes: datetime64[ns](3), float64(5), object(10)\n",
      "memory usage: 165.4+ KB\n"
     ]
    }
   ],
   "source": [
    "data.info()"
   ]
  },
  {
   "cell_type": "code",
   "execution_count": 24,
   "id": "f1f86104",
   "metadata": {},
   "outputs": [
    {
     "data": {
      "text/html": [
       "<div>\n",
       "<style scoped>\n",
       "    .dataframe tbody tr th:only-of-type {\n",
       "        vertical-align: middle;\n",
       "    }\n",
       "\n",
       "    .dataframe tbody tr th {\n",
       "        vertical-align: top;\n",
       "    }\n",
       "\n",
       "    .dataframe thead th {\n",
       "        text-align: right;\n",
       "    }\n",
       "</style>\n",
       "<table border=\"1\" class=\"dataframe\">\n",
       "  <thead>\n",
       "    <tr style=\"text-align: right;\">\n",
       "      <th></th>\n",
       "      <th>created_date</th>\n",
       "      <th>close_date</th>\n",
       "      <th>custo_shp_dt</th>\n",
       "      <th>Multiple</th>\n",
       "      <th>lead_type</th>\n",
       "      <th>sales_manager</th>\n",
       "      <th>account_name</th>\n",
       "      <th>opportunity_name</th>\n",
       "      <th>Process</th>\n",
       "      <th>Amount</th>\n",
       "      <th>shipping_account</th>\n",
       "      <th>invoice_total</th>\n",
       "      <th>customer_po</th>\n",
       "      <th>Facility</th>\n",
       "      <th>facility_quote</th>\n",
       "      <th>total_project_cost</th>\n",
       "      <th>gp_percent</th>\n",
       "      <th>Opportunity Owner: Manager</th>\n",
       "    </tr>\n",
       "  </thead>\n",
       "  <tbody>\n",
       "    <tr>\n",
       "      <th>0</th>\n",
       "      <td>2021-09-16</td>\n",
       "      <td>2022-01-01</td>\n",
       "      <td>NaT</td>\n",
       "      <td>0.0</td>\n",
       "      <td>Existing</td>\n",
       "      <td>Justin Howard</td>\n",
       "      <td>SACO</td>\n",
       "      <td>13952</td>\n",
       "      <td>Molding</td>\n",
       "      <td>188812.5</td>\n",
       "      <td>TBD</td>\n",
       "      <td>188812.5</td>\n",
       "      <td>LS-21-2348-GRD04</td>\n",
       "      <td>Hord Rapidtools</td>\n",
       "      <td>NaN</td>\n",
       "      <td>119647.5</td>\n",
       "      <td>36.63</td>\n",
       "      <td>NaN</td>\n",
       "    </tr>\n",
       "    <tr>\n",
       "      <th>1</th>\n",
       "      <td>2022-01-01</td>\n",
       "      <td>2022-01-01</td>\n",
       "      <td>NaT</td>\n",
       "      <td>0.0</td>\n",
       "      <td>Existing</td>\n",
       "      <td>Justin Howard</td>\n",
       "      <td>SACO</td>\n",
       "      <td>14228</td>\n",
       "      <td>MJF</td>\n",
       "      <td>0.0</td>\n",
       "      <td>249726109</td>\n",
       "      <td>0.0</td>\n",
       "      <td>NO CHARGE</td>\n",
       "      <td>FORECAST 3D</td>\n",
       "      <td>NaN</td>\n",
       "      <td>50.0</td>\n",
       "      <td>#Error!</td>\n",
       "      <td>NaN</td>\n",
       "    </tr>\n",
       "    <tr>\n",
       "      <th>2</th>\n",
       "      <td>2021-12-22</td>\n",
       "      <td>2022-01-01</td>\n",
       "      <td>NaT</td>\n",
       "      <td>0.0</td>\n",
       "      <td>Existing</td>\n",
       "      <td>Justin Howard</td>\n",
       "      <td>KCF Technologies</td>\n",
       "      <td>14215</td>\n",
       "      <td>Molding</td>\n",
       "      <td>25150.0</td>\n",
       "      <td>9E3461</td>\n",
       "      <td>25150.0</td>\n",
       "      <td>011924</td>\n",
       "      <td>Multiple</td>\n",
       "      <td>NaN</td>\n",
       "      <td>17330.0</td>\n",
       "      <td>31.09</td>\n",
       "      <td>NaN</td>\n",
       "    </tr>\n",
       "    <tr>\n",
       "      <th>3</th>\n",
       "      <td>2022-01-04</td>\n",
       "      <td>2022-01-04</td>\n",
       "      <td>NaT</td>\n",
       "      <td>0.0</td>\n",
       "      <td>Existing</td>\n",
       "      <td>Justin Howard</td>\n",
       "      <td>Andrew Barber</td>\n",
       "      <td>14232</td>\n",
       "      <td>CNC</td>\n",
       "      <td>2000.0</td>\n",
       "      <td>NaN</td>\n",
       "      <td>2000.0</td>\n",
       "      <td>NaN</td>\n",
       "      <td>NaN</td>\n",
       "      <td>NaN</td>\n",
       "      <td>1300.0</td>\n",
       "      <td>35</td>\n",
       "      <td>NaN</td>\n",
       "    </tr>\n",
       "    <tr>\n",
       "      <th>4</th>\n",
       "      <td>2021-12-20</td>\n",
       "      <td>2022-01-04</td>\n",
       "      <td>2022-01-26</td>\n",
       "      <td>0.0</td>\n",
       "      <td>Existing</td>\n",
       "      <td>Justin Howard</td>\n",
       "      <td>CNH Industrial America LLC</td>\n",
       "      <td>14199</td>\n",
       "      <td>CNC</td>\n",
       "      <td>3000.0</td>\n",
       "      <td>PF</td>\n",
       "      <td>3000.0</td>\n",
       "      <td>0G35620241</td>\n",
       "      <td>BOFONG RAPID LIlVIITED</td>\n",
       "      <td>14199</td>\n",
       "      <td>2100.0</td>\n",
       "      <td>30</td>\n",
       "      <td>NaN</td>\n",
       "    </tr>\n",
       "  </tbody>\n",
       "</table>\n",
       "</div>"
      ],
      "text/plain": [
       "  created_date close_date custo_shp_dt  Multiple lead_type  sales_manager  \\\n",
       "0   2021-09-16 2022-01-01          NaT       0.0  Existing  Justin Howard   \n",
       "1   2022-01-01 2022-01-01          NaT       0.0  Existing  Justin Howard   \n",
       "2   2021-12-22 2022-01-01          NaT       0.0  Existing  Justin Howard   \n",
       "3   2022-01-04 2022-01-04          NaT       0.0  Existing  Justin Howard   \n",
       "4   2021-12-20 2022-01-04   2022-01-26       0.0  Existing  Justin Howard   \n",
       "\n",
       "                 account_name opportunity_name  Process    Amount  \\\n",
       "0                        SACO            13952  Molding  188812.5   \n",
       "1                        SACO            14228      MJF       0.0   \n",
       "2            KCF Technologies            14215  Molding   25150.0   \n",
       "3               Andrew Barber            14232      CNC    2000.0   \n",
       "4  CNH Industrial America LLC            14199      CNC    3000.0   \n",
       "\n",
       "  shipping_account  invoice_total       customer_po                Facility  \\\n",
       "0              TBD       188812.5  LS-21-2348-GRD04         Hord Rapidtools   \n",
       "1        249726109            0.0         NO CHARGE             FORECAST 3D   \n",
       "2           9E3461        25150.0            011924                Multiple   \n",
       "3              NaN         2000.0               NaN                     NaN   \n",
       "4               PF         3000.0        0G35620241  BOFONG RAPID LIlVIITED   \n",
       "\n",
       "  facility_quote  total_project_cost gp_percent  Opportunity Owner: Manager  \n",
       "0            NaN            119647.5      36.63                         NaN  \n",
       "1            NaN                50.0    #Error!                         NaN  \n",
       "2            NaN             17330.0      31.09                         NaN  \n",
       "3            NaN              1300.0         35                         NaN  \n",
       "4          14199              2100.0         30                         NaN  "
      ]
     },
     "execution_count": 24,
     "metadata": {},
     "output_type": "execute_result"
    }
   ],
   "source": [
    "data.head()"
   ]
  },
  {
   "cell_type": "markdown",
   "id": "ec17d893",
   "metadata": {},
   "source": [
    "### Checking the null values"
   ]
  },
  {
   "cell_type": "code",
   "execution_count": 25,
   "id": "0f7024e9",
   "metadata": {},
   "outputs": [
    {
     "data": {
      "text/plain": [
       "created_date                    0\n",
       "close_date                      0\n",
       "custo_shp_dt                  614\n",
       "Multiple                        0\n",
       "lead_type                       9\n",
       "sales_manager                   0\n",
       "account_name                    0\n",
       "opportunity_name                0\n",
       "Process                         1\n",
       "Amount                         55\n",
       "shipping_account              404\n",
       "invoice_total                   0\n",
       "customer_po                   403\n",
       "Facility                      391\n",
       "facility_quote                621\n",
       "total_project_cost              0\n",
       "gp_percent                      0\n",
       "Opportunity Owner: Manager    897\n",
       "dtype: int64"
      ]
     },
     "execution_count": 25,
     "metadata": {},
     "output_type": "execute_result"
    }
   ],
   "source": [
    "data.isnull().sum()"
   ]
  },
  {
   "cell_type": "markdown",
   "id": "84fbabce",
   "metadata": {},
   "source": [
    "### Checking the missing value percentage"
   ]
  },
  {
   "cell_type": "code",
   "execution_count": 35,
   "id": "1b672d55",
   "metadata": {},
   "outputs": [],
   "source": [
    "\n",
    "data_missing = data.isnull().sum()\n",
    "\n",
    "\n",
    "# lets calculate the percentage of missing values in the dataset\n",
    "data_missing_percent = ((data.isnull().sum()/data.shape[0])*100).round(2)\n",
    "missing_data_df = pd.concat([data_missing, data_missing_percent],\n",
    "                                axis=1, \n",
    "                                keys=['missing_count', 'missing_Percent %'],\n",
    "                                sort = True)"
   ]
  },
  {
   "cell_type": "code",
   "execution_count": 42,
   "id": "af01226f",
   "metadata": {},
   "outputs": [
    {
     "data": {
      "text/html": [
       "<div>\n",
       "<style scoped>\n",
       "    .dataframe tbody tr th:only-of-type {\n",
       "        vertical-align: middle;\n",
       "    }\n",
       "\n",
       "    .dataframe tbody tr th {\n",
       "        vertical-align: top;\n",
       "    }\n",
       "\n",
       "    .dataframe thead th {\n",
       "        text-align: right;\n",
       "    }\n",
       "</style>\n",
       "<table border=\"1\" class=\"dataframe\">\n",
       "  <thead>\n",
       "    <tr style=\"text-align: right;\">\n",
       "      <th></th>\n",
       "      <th>missing_count</th>\n",
       "      <th>missing_Percent %</th>\n",
       "    </tr>\n",
       "  </thead>\n",
       "  <tbody>\n",
       "    <tr>\n",
       "      <th>Amount</th>\n",
       "      <td>0</td>\n",
       "      <td>0.00</td>\n",
       "    </tr>\n",
       "    <tr>\n",
       "      <th>Facility</th>\n",
       "      <td>391</td>\n",
       "      <td>43.59</td>\n",
       "    </tr>\n",
       "    <tr>\n",
       "      <th>Multiple</th>\n",
       "      <td>0</td>\n",
       "      <td>0.00</td>\n",
       "    </tr>\n",
       "    <tr>\n",
       "      <th>Process</th>\n",
       "      <td>1</td>\n",
       "      <td>0.11</td>\n",
       "    </tr>\n",
       "    <tr>\n",
       "      <th>account_name</th>\n",
       "      <td>0</td>\n",
       "      <td>0.00</td>\n",
       "    </tr>\n",
       "    <tr>\n",
       "      <th>close_date</th>\n",
       "      <td>0</td>\n",
       "      <td>0.00</td>\n",
       "    </tr>\n",
       "    <tr>\n",
       "      <th>created_date</th>\n",
       "      <td>0</td>\n",
       "      <td>0.00</td>\n",
       "    </tr>\n",
       "    <tr>\n",
       "      <th>customer_po</th>\n",
       "      <td>403</td>\n",
       "      <td>44.93</td>\n",
       "    </tr>\n",
       "    <tr>\n",
       "      <th>gp_percent</th>\n",
       "      <td>0</td>\n",
       "      <td>0.00</td>\n",
       "    </tr>\n",
       "    <tr>\n",
       "      <th>invoice_total</th>\n",
       "      <td>0</td>\n",
       "      <td>0.00</td>\n",
       "    </tr>\n",
       "    <tr>\n",
       "      <th>lead_type</th>\n",
       "      <td>9</td>\n",
       "      <td>1.00</td>\n",
       "    </tr>\n",
       "    <tr>\n",
       "      <th>opportunity_name</th>\n",
       "      <td>0</td>\n",
       "      <td>0.00</td>\n",
       "    </tr>\n",
       "    <tr>\n",
       "      <th>sales_manager</th>\n",
       "      <td>0</td>\n",
       "      <td>0.00</td>\n",
       "    </tr>\n",
       "    <tr>\n",
       "      <th>shipping_account</th>\n",
       "      <td>404</td>\n",
       "      <td>45.04</td>\n",
       "    </tr>\n",
       "    <tr>\n",
       "      <th>total_project_cost</th>\n",
       "      <td>0</td>\n",
       "      <td>0.00</td>\n",
       "    </tr>\n",
       "  </tbody>\n",
       "</table>\n",
       "</div>"
      ],
      "text/plain": [
       "                    missing_count  missing_Percent %\n",
       "Amount                          0               0.00\n",
       "Facility                      391              43.59\n",
       "Multiple                        0               0.00\n",
       "Process                         1               0.11\n",
       "account_name                    0               0.00\n",
       "close_date                      0               0.00\n",
       "created_date                    0               0.00\n",
       "customer_po                   403              44.93\n",
       "gp_percent                      0               0.00\n",
       "invoice_total                   0               0.00\n",
       "lead_type                       9               1.00\n",
       "opportunity_name                0               0.00\n",
       "sales_manager                   0               0.00\n",
       "shipping_account              404              45.04\n",
       "total_project_cost              0               0.00"
      ]
     },
     "execution_count": 42,
     "metadata": {},
     "output_type": "execute_result"
    }
   ],
   "source": [
    "missing_data_df "
   ]
  },
  {
   "cell_type": "markdown",
   "id": "8bc162c9",
   "metadata": {},
   "source": [
    "### We can drop columns having more than 50 percentagge"
   ]
  },
  {
   "cell_type": "code",
   "execution_count": 28,
   "id": "b47efa28",
   "metadata": {},
   "outputs": [],
   "source": [
    "data=data.drop(['Opportunity Owner: Manager','custo_shp_dt','facility_quote',], axis=1)"
   ]
  },
  {
   "cell_type": "code",
   "execution_count": 29,
   "id": "28b50d7f",
   "metadata": {},
   "outputs": [
    {
     "data": {
      "text/html": [
       "<div>\n",
       "<style scoped>\n",
       "    .dataframe tbody tr th:only-of-type {\n",
       "        vertical-align: middle;\n",
       "    }\n",
       "\n",
       "    .dataframe tbody tr th {\n",
       "        vertical-align: top;\n",
       "    }\n",
       "\n",
       "    .dataframe thead th {\n",
       "        text-align: right;\n",
       "    }\n",
       "</style>\n",
       "<table border=\"1\" class=\"dataframe\">\n",
       "  <thead>\n",
       "    <tr style=\"text-align: right;\">\n",
       "      <th></th>\n",
       "      <th>created_date</th>\n",
       "      <th>close_date</th>\n",
       "      <th>Multiple</th>\n",
       "      <th>lead_type</th>\n",
       "      <th>sales_manager</th>\n",
       "      <th>account_name</th>\n",
       "      <th>opportunity_name</th>\n",
       "      <th>Process</th>\n",
       "      <th>Amount</th>\n",
       "      <th>shipping_account</th>\n",
       "      <th>invoice_total</th>\n",
       "      <th>customer_po</th>\n",
       "      <th>Facility</th>\n",
       "      <th>total_project_cost</th>\n",
       "      <th>gp_percent</th>\n",
       "    </tr>\n",
       "  </thead>\n",
       "  <tbody>\n",
       "    <tr>\n",
       "      <th>0</th>\n",
       "      <td>2021-09-16</td>\n",
       "      <td>2022-01-01</td>\n",
       "      <td>0.0</td>\n",
       "      <td>Existing</td>\n",
       "      <td>Justin Howard</td>\n",
       "      <td>SACO</td>\n",
       "      <td>13952</td>\n",
       "      <td>Molding</td>\n",
       "      <td>188812.5</td>\n",
       "      <td>TBD</td>\n",
       "      <td>188812.5</td>\n",
       "      <td>LS-21-2348-GRD04</td>\n",
       "      <td>Hord Rapidtools</td>\n",
       "      <td>119647.5</td>\n",
       "      <td>36.63</td>\n",
       "    </tr>\n",
       "    <tr>\n",
       "      <th>1</th>\n",
       "      <td>2022-01-01</td>\n",
       "      <td>2022-01-01</td>\n",
       "      <td>0.0</td>\n",
       "      <td>Existing</td>\n",
       "      <td>Justin Howard</td>\n",
       "      <td>SACO</td>\n",
       "      <td>14228</td>\n",
       "      <td>MJF</td>\n",
       "      <td>0.0</td>\n",
       "      <td>249726109</td>\n",
       "      <td>0.0</td>\n",
       "      <td>NO CHARGE</td>\n",
       "      <td>FORECAST 3D</td>\n",
       "      <td>50.0</td>\n",
       "      <td>#Error!</td>\n",
       "    </tr>\n",
       "    <tr>\n",
       "      <th>2</th>\n",
       "      <td>2021-12-22</td>\n",
       "      <td>2022-01-01</td>\n",
       "      <td>0.0</td>\n",
       "      <td>Existing</td>\n",
       "      <td>Justin Howard</td>\n",
       "      <td>KCF Technologies</td>\n",
       "      <td>14215</td>\n",
       "      <td>Molding</td>\n",
       "      <td>25150.0</td>\n",
       "      <td>9E3461</td>\n",
       "      <td>25150.0</td>\n",
       "      <td>011924</td>\n",
       "      <td>Multiple</td>\n",
       "      <td>17330.0</td>\n",
       "      <td>31.09</td>\n",
       "    </tr>\n",
       "    <tr>\n",
       "      <th>3</th>\n",
       "      <td>2022-01-04</td>\n",
       "      <td>2022-01-04</td>\n",
       "      <td>0.0</td>\n",
       "      <td>Existing</td>\n",
       "      <td>Justin Howard</td>\n",
       "      <td>Andrew Barber</td>\n",
       "      <td>14232</td>\n",
       "      <td>CNC</td>\n",
       "      <td>2000.0</td>\n",
       "      <td>NaN</td>\n",
       "      <td>2000.0</td>\n",
       "      <td>NaN</td>\n",
       "      <td>NaN</td>\n",
       "      <td>1300.0</td>\n",
       "      <td>35</td>\n",
       "    </tr>\n",
       "    <tr>\n",
       "      <th>4</th>\n",
       "      <td>2021-12-20</td>\n",
       "      <td>2022-01-04</td>\n",
       "      <td>0.0</td>\n",
       "      <td>Existing</td>\n",
       "      <td>Justin Howard</td>\n",
       "      <td>CNH Industrial America LLC</td>\n",
       "      <td>14199</td>\n",
       "      <td>CNC</td>\n",
       "      <td>3000.0</td>\n",
       "      <td>PF</td>\n",
       "      <td>3000.0</td>\n",
       "      <td>0G35620241</td>\n",
       "      <td>BOFONG RAPID LIlVIITED</td>\n",
       "      <td>2100.0</td>\n",
       "      <td>30</td>\n",
       "    </tr>\n",
       "  </tbody>\n",
       "</table>\n",
       "</div>"
      ],
      "text/plain": [
       "  created_date close_date  Multiple lead_type  sales_manager  \\\n",
       "0   2021-09-16 2022-01-01       0.0  Existing  Justin Howard   \n",
       "1   2022-01-01 2022-01-01       0.0  Existing  Justin Howard   \n",
       "2   2021-12-22 2022-01-01       0.0  Existing  Justin Howard   \n",
       "3   2022-01-04 2022-01-04       0.0  Existing  Justin Howard   \n",
       "4   2021-12-20 2022-01-04       0.0  Existing  Justin Howard   \n",
       "\n",
       "                 account_name opportunity_name  Process    Amount  \\\n",
       "0                        SACO            13952  Molding  188812.5   \n",
       "1                        SACO            14228      MJF       0.0   \n",
       "2            KCF Technologies            14215  Molding   25150.0   \n",
       "3               Andrew Barber            14232      CNC    2000.0   \n",
       "4  CNH Industrial America LLC            14199      CNC    3000.0   \n",
       "\n",
       "  shipping_account  invoice_total       customer_po                Facility  \\\n",
       "0              TBD       188812.5  LS-21-2348-GRD04         Hord Rapidtools   \n",
       "1        249726109            0.0         NO CHARGE             FORECAST 3D   \n",
       "2           9E3461        25150.0            011924                Multiple   \n",
       "3              NaN         2000.0               NaN                     NaN   \n",
       "4               PF         3000.0        0G35620241  BOFONG RAPID LIlVIITED   \n",
       "\n",
       "   total_project_cost gp_percent  \n",
       "0            119647.5      36.63  \n",
       "1                50.0    #Error!  \n",
       "2             17330.0      31.09  \n",
       "3              1300.0         35  \n",
       "4              2100.0         30  "
      ]
     },
     "execution_count": 29,
     "metadata": {},
     "output_type": "execute_result"
    }
   ],
   "source": [
    "data.head()"
   ]
  },
  {
   "cell_type": "code",
   "execution_count": 30,
   "id": "15fa1444",
   "metadata": {},
   "outputs": [],
   "source": [
    "data['gp_percent'] = data['gp_percent'].replace([\"#Error!\"],0)"
   ]
  },
  {
   "cell_type": "code",
   "execution_count": 31,
   "id": "6c239910",
   "metadata": {},
   "outputs": [],
   "source": [
    "data[['gp_percent','Amount','total_project_cost','invoice_total']] = data[['gp_percent','Amount','total_project_cost','invoice_total']].fillna(value=0)"
   ]
  },
  {
   "cell_type": "code",
   "execution_count": 33,
   "id": "67cfabed",
   "metadata": {},
   "outputs": [
    {
     "name": "stdout",
     "output_type": "stream",
     "text": [
      "<class 'pandas.core.frame.DataFrame'>\n",
      "Int64Index: 897 entries, 0 to 896\n",
      "Data columns (total 15 columns):\n",
      " #   Column              Non-Null Count  Dtype         \n",
      "---  ------              --------------  -----         \n",
      " 0   created_date        897 non-null    datetime64[ns]\n",
      " 1   close_date          897 non-null    datetime64[ns]\n",
      " 2   Multiple            897 non-null    float64       \n",
      " 3   lead_type           888 non-null    object        \n",
      " 4   sales_manager       897 non-null    object        \n",
      " 5   account_name        897 non-null    object        \n",
      " 6   opportunity_name    897 non-null    object        \n",
      " 7   Process             896 non-null    object        \n",
      " 8   Amount              897 non-null    float64       \n",
      " 9   shipping_account    493 non-null    object        \n",
      " 10  invoice_total       897 non-null    float64       \n",
      " 11  customer_po         494 non-null    object        \n",
      " 12  Facility            506 non-null    object        \n",
      " 13  total_project_cost  897 non-null    float64       \n",
      " 14  gp_percent          897 non-null    float64       \n",
      "dtypes: datetime64[ns](2), float64(5), object(8)\n",
      "memory usage: 144.4+ KB\n"
     ]
    }
   ],
   "source": [
    "data.info()"
   ]
  },
  {
   "cell_type": "code",
   "execution_count": 34,
   "id": "61c73502",
   "metadata": {},
   "outputs": [
    {
     "data": {
      "text/plain": [
       "<bound method IndexOpsMixin.value_counts of 0        13952\n",
       "1        14228\n",
       "2        14215\n",
       "3        14232\n",
       "4        14199\n",
       "        ...   \n",
       "892      15000\n",
       "893      14997\n",
       "894      14962\n",
       "895      15097\n",
       "896    14878-R\n",
       "Name: opportunity_name, Length: 897, dtype: object>"
      ]
     },
     "execution_count": 34,
     "metadata": {},
     "output_type": "execute_result"
    }
   ],
   "source": [
    "data['opportunity_name'].value_counts"
   ]
  },
  {
   "cell_type": "code",
   "execution_count": 37,
   "id": "91c380e5",
   "metadata": {},
   "outputs": [],
   "source": [
    "data[\"customer_po\"].fillna(\"NA\", inplace = True)"
   ]
  },
  {
   "cell_type": "code",
   "execution_count": 38,
   "id": "19e41619",
   "metadata": {},
   "outputs": [],
   "source": [
    "data[\"shipping_account\"].fillna(\"NA\", inplace = True)"
   ]
  },
  {
   "cell_type": "code",
   "execution_count": 39,
   "id": "ceda2986",
   "metadata": {},
   "outputs": [],
   "source": [
    "data[\"Facility\"].fillna(\"NA\", inplace = True)"
   ]
  },
  {
   "cell_type": "code",
   "execution_count": 41,
   "id": "6688a65c",
   "metadata": {},
   "outputs": [
    {
     "data": {
      "text/html": [
       "<div>\n",
       "<style scoped>\n",
       "    .dataframe tbody tr th:only-of-type {\n",
       "        vertical-align: middle;\n",
       "    }\n",
       "\n",
       "    .dataframe tbody tr th {\n",
       "        vertical-align: top;\n",
       "    }\n",
       "\n",
       "    .dataframe thead th {\n",
       "        text-align: right;\n",
       "    }\n",
       "</style>\n",
       "<table border=\"1\" class=\"dataframe\">\n",
       "  <thead>\n",
       "    <tr style=\"text-align: right;\">\n",
       "      <th></th>\n",
       "      <th>created_date</th>\n",
       "      <th>close_date</th>\n",
       "      <th>Multiple</th>\n",
       "      <th>lead_type</th>\n",
       "      <th>sales_manager</th>\n",
       "      <th>account_name</th>\n",
       "      <th>opportunity_name</th>\n",
       "      <th>Process</th>\n",
       "      <th>Amount</th>\n",
       "      <th>shipping_account</th>\n",
       "      <th>invoice_total</th>\n",
       "      <th>customer_po</th>\n",
       "      <th>Facility</th>\n",
       "      <th>total_project_cost</th>\n",
       "      <th>gp_percent</th>\n",
       "    </tr>\n",
       "  </thead>\n",
       "  <tbody>\n",
       "    <tr>\n",
       "      <th>0</th>\n",
       "      <td>2021-09-16</td>\n",
       "      <td>2022-01-01</td>\n",
       "      <td>0.0</td>\n",
       "      <td>Existing</td>\n",
       "      <td>Justin Howard</td>\n",
       "      <td>SACO</td>\n",
       "      <td>13952</td>\n",
       "      <td>Molding</td>\n",
       "      <td>188812.5</td>\n",
       "      <td>TBD</td>\n",
       "      <td>188812.5</td>\n",
       "      <td>LS-21-2348-GRD04</td>\n",
       "      <td>Hord Rapidtools</td>\n",
       "      <td>119647.5</td>\n",
       "      <td>36.63</td>\n",
       "    </tr>\n",
       "    <tr>\n",
       "      <th>1</th>\n",
       "      <td>2022-01-01</td>\n",
       "      <td>2022-01-01</td>\n",
       "      <td>0.0</td>\n",
       "      <td>Existing</td>\n",
       "      <td>Justin Howard</td>\n",
       "      <td>SACO</td>\n",
       "      <td>14228</td>\n",
       "      <td>MJF</td>\n",
       "      <td>0.0</td>\n",
       "      <td>249726109</td>\n",
       "      <td>0.0</td>\n",
       "      <td>NO CHARGE</td>\n",
       "      <td>FORECAST 3D</td>\n",
       "      <td>50.0</td>\n",
       "      <td>0.00</td>\n",
       "    </tr>\n",
       "    <tr>\n",
       "      <th>2</th>\n",
       "      <td>2021-12-22</td>\n",
       "      <td>2022-01-01</td>\n",
       "      <td>0.0</td>\n",
       "      <td>Existing</td>\n",
       "      <td>Justin Howard</td>\n",
       "      <td>KCF Technologies</td>\n",
       "      <td>14215</td>\n",
       "      <td>Molding</td>\n",
       "      <td>25150.0</td>\n",
       "      <td>9E3461</td>\n",
       "      <td>25150.0</td>\n",
       "      <td>011924</td>\n",
       "      <td>Multiple</td>\n",
       "      <td>17330.0</td>\n",
       "      <td>31.09</td>\n",
       "    </tr>\n",
       "    <tr>\n",
       "      <th>3</th>\n",
       "      <td>2022-01-04</td>\n",
       "      <td>2022-01-04</td>\n",
       "      <td>0.0</td>\n",
       "      <td>Existing</td>\n",
       "      <td>Justin Howard</td>\n",
       "      <td>Andrew Barber</td>\n",
       "      <td>14232</td>\n",
       "      <td>CNC</td>\n",
       "      <td>2000.0</td>\n",
       "      <td>NA</td>\n",
       "      <td>2000.0</td>\n",
       "      <td>NA</td>\n",
       "      <td>NA</td>\n",
       "      <td>1300.0</td>\n",
       "      <td>35.00</td>\n",
       "    </tr>\n",
       "    <tr>\n",
       "      <th>4</th>\n",
       "      <td>2021-12-20</td>\n",
       "      <td>2022-01-04</td>\n",
       "      <td>0.0</td>\n",
       "      <td>Existing</td>\n",
       "      <td>Justin Howard</td>\n",
       "      <td>CNH Industrial America LLC</td>\n",
       "      <td>14199</td>\n",
       "      <td>CNC</td>\n",
       "      <td>3000.0</td>\n",
       "      <td>PF</td>\n",
       "      <td>3000.0</td>\n",
       "      <td>0G35620241</td>\n",
       "      <td>BOFONG RAPID LIlVIITED</td>\n",
       "      <td>2100.0</td>\n",
       "      <td>30.00</td>\n",
       "    </tr>\n",
       "  </tbody>\n",
       "</table>\n",
       "</div>"
      ],
      "text/plain": [
       "  created_date close_date  Multiple lead_type  sales_manager  \\\n",
       "0   2021-09-16 2022-01-01       0.0  Existing  Justin Howard   \n",
       "1   2022-01-01 2022-01-01       0.0  Existing  Justin Howard   \n",
       "2   2021-12-22 2022-01-01       0.0  Existing  Justin Howard   \n",
       "3   2022-01-04 2022-01-04       0.0  Existing  Justin Howard   \n",
       "4   2021-12-20 2022-01-04       0.0  Existing  Justin Howard   \n",
       "\n",
       "                 account_name opportunity_name  Process    Amount  \\\n",
       "0                        SACO            13952  Molding  188812.5   \n",
       "1                        SACO            14228      MJF       0.0   \n",
       "2            KCF Technologies            14215  Molding   25150.0   \n",
       "3               Andrew Barber            14232      CNC    2000.0   \n",
       "4  CNH Industrial America LLC            14199      CNC    3000.0   \n",
       "\n",
       "  shipping_account  invoice_total       customer_po                Facility  \\\n",
       "0              TBD       188812.5  LS-21-2348-GRD04         Hord Rapidtools   \n",
       "1        249726109            0.0         NO CHARGE             FORECAST 3D   \n",
       "2           9E3461        25150.0            011924                Multiple   \n",
       "3               NA         2000.0                NA                      NA   \n",
       "4               PF         3000.0        0G35620241  BOFONG RAPID LIlVIITED   \n",
       "\n",
       "   total_project_cost  gp_percent  \n",
       "0            119647.5       36.63  \n",
       "1                50.0        0.00  \n",
       "2             17330.0       31.09  \n",
       "3              1300.0       35.00  \n",
       "4              2100.0       30.00  "
      ]
     },
     "execution_count": 41,
     "metadata": {},
     "output_type": "execute_result"
    }
   ],
   "source": [
    "data.head()"
   ]
  },
  {
   "cell_type": "markdown",
   "id": "bc678b8d",
   "metadata": {},
   "source": [
    "### Summary of the data "
   ]
  },
  {
   "cell_type": "code",
   "execution_count": 58,
   "id": "ff586994",
   "metadata": {},
   "outputs": [
    {
     "data": {
      "text/html": [
       "<div>\n",
       "<style scoped>\n",
       "    .dataframe tbody tr th:only-of-type {\n",
       "        vertical-align: middle;\n",
       "    }\n",
       "\n",
       "    .dataframe tbody tr th {\n",
       "        vertical-align: top;\n",
       "    }\n",
       "\n",
       "    .dataframe thead th {\n",
       "        text-align: right;\n",
       "    }\n",
       "</style>\n",
       "<table border=\"1\" class=\"dataframe\">\n",
       "  <thead>\n",
       "    <tr style=\"text-align: right;\">\n",
       "      <th></th>\n",
       "      <th>Multiple</th>\n",
       "      <th>Amount</th>\n",
       "      <th>invoice_total</th>\n",
       "      <th>total_project_cost</th>\n",
       "      <th>gp_percent</th>\n",
       "    </tr>\n",
       "  </thead>\n",
       "  <tbody>\n",
       "    <tr>\n",
       "      <th>count</th>\n",
       "      <td>897.000000</td>\n",
       "      <td>8.970000e+02</td>\n",
       "      <td>8.970000e+02</td>\n",
       "      <td>897.000000</td>\n",
       "      <td>897.000000</td>\n",
       "    </tr>\n",
       "    <tr>\n",
       "      <th>mean</th>\n",
       "      <td>0.011148</td>\n",
       "      <td>1.081994e+04</td>\n",
       "      <td>1.096565e+04</td>\n",
       "      <td>7052.676812</td>\n",
       "      <td>36.776566</td>\n",
       "    </tr>\n",
       "    <tr>\n",
       "      <th>std</th>\n",
       "      <td>0.105054</td>\n",
       "      <td>4.660548e+04</td>\n",
       "      <td>4.663835e+04</td>\n",
       "      <td>31862.637394</td>\n",
       "      <td>15.427498</td>\n",
       "    </tr>\n",
       "    <tr>\n",
       "      <th>min</th>\n",
       "      <td>0.000000</td>\n",
       "      <td>0.000000e+00</td>\n",
       "      <td>0.000000e+00</td>\n",
       "      <td>0.000000</td>\n",
       "      <td>-36.150000</td>\n",
       "    </tr>\n",
       "    <tr>\n",
       "      <th>25%</th>\n",
       "      <td>0.000000</td>\n",
       "      <td>5.880000e+02</td>\n",
       "      <td>6.280000e+02</td>\n",
       "      <td>360.000000</td>\n",
       "      <td>30.430000</td>\n",
       "    </tr>\n",
       "    <tr>\n",
       "      <th>50%</th>\n",
       "      <td>0.000000</td>\n",
       "      <td>2.025000e+03</td>\n",
       "      <td>2.117000e+03</td>\n",
       "      <td>1208.000000</td>\n",
       "      <td>36.840000</td>\n",
       "    </tr>\n",
       "    <tr>\n",
       "      <th>75%</th>\n",
       "      <td>0.000000</td>\n",
       "      <td>6.750000e+03</td>\n",
       "      <td>6.900000e+03</td>\n",
       "      <td>4496.000000</td>\n",
       "      <td>41.000000</td>\n",
       "    </tr>\n",
       "    <tr>\n",
       "      <th>max</th>\n",
       "      <td>1.000000</td>\n",
       "      <td>1.034260e+06</td>\n",
       "      <td>1.034260e+06</td>\n",
       "      <td>723940.000000</td>\n",
       "      <td>100.000000</td>\n",
       "    </tr>\n",
       "  </tbody>\n",
       "</table>\n",
       "</div>"
      ],
      "text/plain": [
       "         Multiple        Amount  invoice_total  total_project_cost  gp_percent\n",
       "count  897.000000  8.970000e+02   8.970000e+02          897.000000  897.000000\n",
       "mean     0.011148  1.081994e+04   1.096565e+04         7052.676812   36.776566\n",
       "std      0.105054  4.660548e+04   4.663835e+04        31862.637394   15.427498\n",
       "min      0.000000  0.000000e+00   0.000000e+00            0.000000  -36.150000\n",
       "25%      0.000000  5.880000e+02   6.280000e+02          360.000000   30.430000\n",
       "50%      0.000000  2.025000e+03   2.117000e+03         1208.000000   36.840000\n",
       "75%      0.000000  6.750000e+03   6.900000e+03         4496.000000   41.000000\n",
       "max      1.000000  1.034260e+06   1.034260e+06       723940.000000  100.000000"
      ]
     },
     "execution_count": 58,
     "metadata": {},
     "output_type": "execute_result"
    }
   ],
   "source": [
    "data.describe()"
   ]
  },
  {
   "cell_type": "markdown",
   "id": "f60ff3ca",
   "metadata": {},
   "source": [
    "Mean of the total project cost is 7052.67 and gp_percent is 36.77\n",
    "Maximum total project cost is 723940 and gp percentage is 100\n",
    "Minimum total _project cost is 0 and gp percent is -36"
   ]
  },
  {
   "cell_type": "code",
   "execution_count": 60,
   "id": "5f7eb7ab",
   "metadata": {},
   "outputs": [],
   "source": [
    "data['created_year'] = data['created_date'].dt.year"
   ]
  },
  {
   "cell_type": "code",
   "execution_count": 63,
   "id": "bd5a89d3",
   "metadata": {},
   "outputs": [],
   "source": [
    "data['created_month'] = data['created_date'].dt.month"
   ]
  },
  {
   "cell_type": "code",
   "execution_count": 61,
   "id": "48ff52da",
   "metadata": {},
   "outputs": [],
   "source": [
    "data['created_day'] = data['created_date'].dt.day"
   ]
  },
  {
   "cell_type": "code",
   "execution_count": 65,
   "id": "fa23caa9",
   "metadata": {},
   "outputs": [],
   "source": [
    "data['close_year'] = data['close_date'].dt.year"
   ]
  },
  {
   "cell_type": "code",
   "execution_count": 66,
   "id": "deb4490f",
   "metadata": {},
   "outputs": [],
   "source": [
    "data['close_month'] = data['close_date'].dt.month"
   ]
  },
  {
   "cell_type": "code",
   "execution_count": 67,
   "id": "28f9a3f9",
   "metadata": {},
   "outputs": [],
   "source": [
    "data['close_day'] = data['close_date'].dt.day"
   ]
  },
  {
   "cell_type": "code",
   "execution_count": 68,
   "id": "3d526f4b",
   "metadata": {},
   "outputs": [
    {
     "data": {
      "text/html": [
       "<div>\n",
       "<style scoped>\n",
       "    .dataframe tbody tr th:only-of-type {\n",
       "        vertical-align: middle;\n",
       "    }\n",
       "\n",
       "    .dataframe tbody tr th {\n",
       "        vertical-align: top;\n",
       "    }\n",
       "\n",
       "    .dataframe thead th {\n",
       "        text-align: right;\n",
       "    }\n",
       "</style>\n",
       "<table border=\"1\" class=\"dataframe\">\n",
       "  <thead>\n",
       "    <tr style=\"text-align: right;\">\n",
       "      <th></th>\n",
       "      <th>created_date</th>\n",
       "      <th>close_date</th>\n",
       "      <th>Multiple</th>\n",
       "      <th>lead_type</th>\n",
       "      <th>sales_manager</th>\n",
       "      <th>account_name</th>\n",
       "      <th>opportunity_name</th>\n",
       "      <th>Process</th>\n",
       "      <th>Amount</th>\n",
       "      <th>shipping_account</th>\n",
       "      <th>invoice_total</th>\n",
       "      <th>customer_po</th>\n",
       "      <th>Facility</th>\n",
       "      <th>total_project_cost</th>\n",
       "      <th>gp_percent</th>\n",
       "      <th>created_year</th>\n",
       "      <th>created_day</th>\n",
       "      <th>created_month</th>\n",
       "      <th>close_year</th>\n",
       "      <th>close_month</th>\n",
       "      <th>close_day</th>\n",
       "    </tr>\n",
       "  </thead>\n",
       "  <tbody>\n",
       "    <tr>\n",
       "      <th>0</th>\n",
       "      <td>2021-09-16</td>\n",
       "      <td>2022-01-01</td>\n",
       "      <td>0.0</td>\n",
       "      <td>Existing</td>\n",
       "      <td>Justin Howard</td>\n",
       "      <td>SACO</td>\n",
       "      <td>13952</td>\n",
       "      <td>Molding</td>\n",
       "      <td>188812.5</td>\n",
       "      <td>TBD</td>\n",
       "      <td>188812.5</td>\n",
       "      <td>LS-21-2348-GRD04</td>\n",
       "      <td>Hord Rapidtools</td>\n",
       "      <td>119647.5</td>\n",
       "      <td>36.63</td>\n",
       "      <td>2021</td>\n",
       "      <td>16</td>\n",
       "      <td>9</td>\n",
       "      <td>2022</td>\n",
       "      <td>1</td>\n",
       "      <td>1</td>\n",
       "    </tr>\n",
       "    <tr>\n",
       "      <th>1</th>\n",
       "      <td>2022-01-01</td>\n",
       "      <td>2022-01-01</td>\n",
       "      <td>0.0</td>\n",
       "      <td>Existing</td>\n",
       "      <td>Justin Howard</td>\n",
       "      <td>SACO</td>\n",
       "      <td>14228</td>\n",
       "      <td>MJF</td>\n",
       "      <td>0.0</td>\n",
       "      <td>249726109</td>\n",
       "      <td>0.0</td>\n",
       "      <td>NO CHARGE</td>\n",
       "      <td>FORECAST 3D</td>\n",
       "      <td>50.0</td>\n",
       "      <td>0.00</td>\n",
       "      <td>2022</td>\n",
       "      <td>1</td>\n",
       "      <td>1</td>\n",
       "      <td>2022</td>\n",
       "      <td>1</td>\n",
       "      <td>1</td>\n",
       "    </tr>\n",
       "    <tr>\n",
       "      <th>2</th>\n",
       "      <td>2021-12-22</td>\n",
       "      <td>2022-01-01</td>\n",
       "      <td>0.0</td>\n",
       "      <td>Existing</td>\n",
       "      <td>Justin Howard</td>\n",
       "      <td>KCF Technologies</td>\n",
       "      <td>14215</td>\n",
       "      <td>Molding</td>\n",
       "      <td>25150.0</td>\n",
       "      <td>9E3461</td>\n",
       "      <td>25150.0</td>\n",
       "      <td>011924</td>\n",
       "      <td>Multiple</td>\n",
       "      <td>17330.0</td>\n",
       "      <td>31.09</td>\n",
       "      <td>2021</td>\n",
       "      <td>22</td>\n",
       "      <td>12</td>\n",
       "      <td>2022</td>\n",
       "      <td>1</td>\n",
       "      <td>1</td>\n",
       "    </tr>\n",
       "    <tr>\n",
       "      <th>3</th>\n",
       "      <td>2022-01-04</td>\n",
       "      <td>2022-01-04</td>\n",
       "      <td>0.0</td>\n",
       "      <td>Existing</td>\n",
       "      <td>Justin Howard</td>\n",
       "      <td>Andrew Barber</td>\n",
       "      <td>14232</td>\n",
       "      <td>CNC</td>\n",
       "      <td>2000.0</td>\n",
       "      <td>NA</td>\n",
       "      <td>2000.0</td>\n",
       "      <td>NA</td>\n",
       "      <td>NA</td>\n",
       "      <td>1300.0</td>\n",
       "      <td>35.00</td>\n",
       "      <td>2022</td>\n",
       "      <td>4</td>\n",
       "      <td>1</td>\n",
       "      <td>2022</td>\n",
       "      <td>1</td>\n",
       "      <td>4</td>\n",
       "    </tr>\n",
       "    <tr>\n",
       "      <th>4</th>\n",
       "      <td>2021-12-20</td>\n",
       "      <td>2022-01-04</td>\n",
       "      <td>0.0</td>\n",
       "      <td>Existing</td>\n",
       "      <td>Justin Howard</td>\n",
       "      <td>CNH Industrial America LLC</td>\n",
       "      <td>14199</td>\n",
       "      <td>CNC</td>\n",
       "      <td>3000.0</td>\n",
       "      <td>PF</td>\n",
       "      <td>3000.0</td>\n",
       "      <td>0G35620241</td>\n",
       "      <td>BOFONG RAPID LIlVIITED</td>\n",
       "      <td>2100.0</td>\n",
       "      <td>30.00</td>\n",
       "      <td>2021</td>\n",
       "      <td>20</td>\n",
       "      <td>12</td>\n",
       "      <td>2022</td>\n",
       "      <td>1</td>\n",
       "      <td>4</td>\n",
       "    </tr>\n",
       "  </tbody>\n",
       "</table>\n",
       "</div>"
      ],
      "text/plain": [
       "  created_date close_date  Multiple lead_type  sales_manager  \\\n",
       "0   2021-09-16 2022-01-01       0.0  Existing  Justin Howard   \n",
       "1   2022-01-01 2022-01-01       0.0  Existing  Justin Howard   \n",
       "2   2021-12-22 2022-01-01       0.0  Existing  Justin Howard   \n",
       "3   2022-01-04 2022-01-04       0.0  Existing  Justin Howard   \n",
       "4   2021-12-20 2022-01-04       0.0  Existing  Justin Howard   \n",
       "\n",
       "                 account_name opportunity_name  Process    Amount  \\\n",
       "0                        SACO            13952  Molding  188812.5   \n",
       "1                        SACO            14228      MJF       0.0   \n",
       "2            KCF Technologies            14215  Molding   25150.0   \n",
       "3               Andrew Barber            14232      CNC    2000.0   \n",
       "4  CNH Industrial America LLC            14199      CNC    3000.0   \n",
       "\n",
       "  shipping_account  invoice_total       customer_po                Facility  \\\n",
       "0              TBD       188812.5  LS-21-2348-GRD04         Hord Rapidtools   \n",
       "1        249726109            0.0         NO CHARGE             FORECAST 3D   \n",
       "2           9E3461        25150.0            011924                Multiple   \n",
       "3               NA         2000.0                NA                      NA   \n",
       "4               PF         3000.0        0G35620241  BOFONG RAPID LIlVIITED   \n",
       "\n",
       "   total_project_cost  gp_percent  created_year  created_day  created_month  \\\n",
       "0            119647.5       36.63          2021           16              9   \n",
       "1                50.0        0.00          2022            1              1   \n",
       "2             17330.0       31.09          2021           22             12   \n",
       "3              1300.0       35.00          2022            4              1   \n",
       "4              2100.0       30.00          2021           20             12   \n",
       "\n",
       "   close_year  close_month  close_day  \n",
       "0        2022            1          1  \n",
       "1        2022            1          1  \n",
       "2        2022            1          1  \n",
       "3        2022            1          4  \n",
       "4        2022            1          4  "
      ]
     },
     "execution_count": 68,
     "metadata": {},
     "output_type": "execute_result"
    }
   ],
   "source": [
    "data.head()"
   ]
  },
  {
   "cell_type": "markdown",
   "id": "884fdbe6",
   "metadata": {},
   "source": [
    "### Visualization"
   ]
  },
  {
   "cell_type": "markdown",
   "id": "77c6a5a7",
   "metadata": {},
   "source": [
    "### Count of Lead type feature"
   ]
  },
  {
   "cell_type": "code",
   "execution_count": 43,
   "id": "ab7617cd",
   "metadata": {},
   "outputs": [
    {
     "data": {
      "image/png": "[encoded data removed]",
      "text/plain": [
       "<Figure size 1080x432 with 1 Axes>"
      ]
     },
     "metadata": {
      "needs_background": "light"
     },
     "output_type": "display_data"
    }
   ],
   "source": [
    "plt.figure(figsize=(15,6))\n",
    "sns.countplot('lead_type', data = data, palette = 'hls')\n",
    "plt.xticks(rotation = 90)\n",
    "plt.show()\n"
   ]
  },
  {
   "cell_type": "code",
   "execution_count": 47,
   "id": "eba06df2",
   "metadata": {},
   "outputs": [
    {
     "data": {
      "image/png": "[encoded data removed]",
      "text/plain": [
       "<Figure size 1080x432 with 1 Axes>"
      ]
     },
     "metadata": {},
     "output_type": "display_data"
    }
   ],
   "source": [
    "plt.figure(figsize=(15,6))\n",
    "palette_color = sns.color_palette('dark')\n",
    "explode = [0, 0.1]\n",
    "plt.pie(data['lead_type'].value_counts(), labels= ['Existing', 'New'],\n",
    "colors=palette_color, explode=explode,\n",
    "autopct='%.0f%%')\n",
    "plt.show()"
   ]
  },
  {
   "cell_type": "markdown",
   "id": "60d20701",
   "metadata": {},
   "source": [
    "### Count of Process feature categories"
   ]
  },
  {
   "cell_type": "code",
   "execution_count": 48,
   "id": "6ce036b4",
   "metadata": {},
   "outputs": [
    {
     "data": {
      "image/png": "[encoded data removed]",
      "text/plain": [
       "<Figure size 1080x432 with 1 Axes>"
      ]
     },
     "metadata": {
      "needs_background": "light"
     },
     "output_type": "display_data"
    }
   ],
   "source": [
    "plt.figure(figsize=(15,6))\n",
    "sns.countplot('Process',data = data,palette = 'hls')\n",
    "plt.xticks(rotation = 90)\n",
    "plt.show()"
   ]
  },
  {
   "cell_type": "code",
   "execution_count": 49,
   "id": "f247a79e",
   "metadata": {},
   "outputs": [
    {
     "data": {
      "image/png": "[encoded data removed]",
      "text/plain": [
       "<Figure size 1080x432 with 1 Axes>"
      ]
     },
     "metadata": {
      "needs_background": "light"
     },
     "output_type": "display_data"
    }
   ],
   "source": [
    "plt.figure(figsize=(15,6))\n",
    "sns.countplot('Facility',data = data,palette = 'hls')\n",
    "plt.xticks(rotation = 90)\n",
    "plt.show()"
   ]
  },
  {
   "cell_type": "code",
   "execution_count": 50,
   "id": "e340f1ae",
   "metadata": {},
   "outputs": [
    {
     "data": {
      "image/png": "[encoded data removed]",
      "text/plain": [
       "<Figure size 1080x432 with 1 Axes>"
      ]
     },
     "metadata": {
      "needs_background": "light"
     },
     "output_type": "display_data"
    }
   ],
   "source": [
    "plt.figure(figsize=(15,6))\n",
    "sns.countplot('shipping_account',data = data,palette = 'hls')\n",
    "plt.xticks(rotation = 90)\n",
    "plt.show()"
   ]
  },
  {
   "cell_type": "code",
   "execution_count": 53,
   "id": "4b7e2dfe",
   "metadata": {},
   "outputs": [
    {
     "data": {
      "text/plain": [
       "array(['Justin Howard', 'Matt Wendel'], dtype=object)"
      ]
     },
     "execution_count": 53,
     "metadata": {},
     "output_type": "execute_result"
    }
   ],
   "source": [
    "data.sales_manager.unique()"
   ]
  },
  {
   "cell_type": "markdown",
   "id": "146cc5de",
   "metadata": {},
   "source": [
    "### Sales manager with lead type"
   ]
  },
  {
   "cell_type": "code",
   "execution_count": 56,
   "id": "bb822cda",
   "metadata": {},
   "outputs": [
    {
     "data": {
      "image/png": "[encoded data removed]",
      "text/plain": [
       "<Figure size 720x576 with 1 Axes>"
      ]
     },
     "metadata": {
      "needs_background": "light"
     },
     "output_type": "display_data"
    }
   ],
   "source": [
    "plt.figure(figsize=(10,8))\n",
    "sns.countplot(\"lead_type\", data=data, hue = 'sales_manager' ,\n",
    "palette=\"bright\")\n",
    "plt.xticks(rotation = 90)\n",
    "plt.show()"
   ]
  },
  {
   "cell_type": "code",
   "execution_count": 69,
   "id": "163d257c",
   "metadata": {},
   "outputs": [],
   "source": [
    "created_dataframe = data[[\"total_project_cost\",\"created_month\",'gp_percent','Amount','Process','lead_type']]"
   ]
  },
  {
   "cell_type": "code",
   "execution_count": 70,
   "id": "73121cd4",
   "metadata": {},
   "outputs": [
    {
     "data": {
      "text/html": [
       "<div>\n",
       "<style scoped>\n",
       "    .dataframe tbody tr th:only-of-type {\n",
       "        vertical-align: middle;\n",
       "    }\n",
       "\n",
       "    .dataframe tbody tr th {\n",
       "        vertical-align: top;\n",
       "    }\n",
       "\n",
       "    .dataframe thead th {\n",
       "        text-align: right;\n",
       "    }\n",
       "</style>\n",
       "<table border=\"1\" class=\"dataframe\">\n",
       "  <thead>\n",
       "    <tr style=\"text-align: right;\">\n",
       "      <th></th>\n",
       "      <th>total_project_cost</th>\n",
       "      <th>created_month</th>\n",
       "      <th>gp_percent</th>\n",
       "      <th>Amount</th>\n",
       "      <th>Process</th>\n",
       "      <th>lead_type</th>\n",
       "    </tr>\n",
       "  </thead>\n",
       "  <tbody>\n",
       "    <tr>\n",
       "      <th>0</th>\n",
       "      <td>119647.5</td>\n",
       "      <td>9</td>\n",
       "      <td>36.63</td>\n",
       "      <td>188812.5</td>\n",
       "      <td>Molding</td>\n",
       "      <td>Existing</td>\n",
       "    </tr>\n",
       "    <tr>\n",
       "      <th>1</th>\n",
       "      <td>50.0</td>\n",
       "      <td>1</td>\n",
       "      <td>0.00</td>\n",
       "      <td>0.0</td>\n",
       "      <td>MJF</td>\n",
       "      <td>Existing</td>\n",
       "    </tr>\n",
       "    <tr>\n",
       "      <th>2</th>\n",
       "      <td>17330.0</td>\n",
       "      <td>12</td>\n",
       "      <td>31.09</td>\n",
       "      <td>25150.0</td>\n",
       "      <td>Molding</td>\n",
       "      <td>Existing</td>\n",
       "    </tr>\n",
       "    <tr>\n",
       "      <th>3</th>\n",
       "      <td>1300.0</td>\n",
       "      <td>1</td>\n",
       "      <td>35.00</td>\n",
       "      <td>2000.0</td>\n",
       "      <td>CNC</td>\n",
       "      <td>Existing</td>\n",
       "    </tr>\n",
       "    <tr>\n",
       "      <th>4</th>\n",
       "      <td>2100.0</td>\n",
       "      <td>12</td>\n",
       "      <td>30.00</td>\n",
       "      <td>3000.0</td>\n",
       "      <td>CNC</td>\n",
       "      <td>Existing</td>\n",
       "    </tr>\n",
       "  </tbody>\n",
       "</table>\n",
       "</div>"
      ],
      "text/plain": [
       "   total_project_cost  created_month  gp_percent    Amount  Process lead_type\n",
       "0            119647.5              9       36.63  188812.5  Molding  Existing\n",
       "1                50.0              1        0.00       0.0      MJF  Existing\n",
       "2             17330.0             12       31.09   25150.0  Molding  Existing\n",
       "3              1300.0              1       35.00    2000.0      CNC  Existing\n",
       "4              2100.0             12       30.00    3000.0      CNC  Existing"
      ]
     },
     "execution_count": 70,
     "metadata": {},
     "output_type": "execute_result"
    }
   ],
   "source": [
    "created_dataframe.head()"
   ]
  },
  {
   "cell_type": "code",
   "execution_count": 80,
   "id": "2ad8bbbd",
   "metadata": {},
   "outputs": [],
   "source": [
    "data_created_less_six=created_dataframe[created_dataframe[\"created_month\"] <= 6]"
   ]
  },
  {
   "cell_type": "code",
   "execution_count": 84,
   "id": "4525985c",
   "metadata": {},
   "outputs": [
    {
     "data": {
      "text/html": [
       "<div>\n",
       "<style scoped>\n",
       "    .dataframe tbody tr th:only-of-type {\n",
       "        vertical-align: middle;\n",
       "    }\n",
       "\n",
       "    .dataframe tbody tr th {\n",
       "        vertical-align: top;\n",
       "    }\n",
       "\n",
       "    .dataframe thead th {\n",
       "        text-align: right;\n",
       "    }\n",
       "</style>\n",
       "<table border=\"1\" class=\"dataframe\">\n",
       "  <thead>\n",
       "    <tr style=\"text-align: right;\">\n",
       "      <th></th>\n",
       "      <th>total_project_cost</th>\n",
       "      <th>created_month</th>\n",
       "      <th>gp_percent</th>\n",
       "      <th>Amount</th>\n",
       "      <th>Process</th>\n",
       "      <th>lead_type</th>\n",
       "    </tr>\n",
       "  </thead>\n",
       "  <tbody>\n",
       "    <tr>\n",
       "      <th>1</th>\n",
       "      <td>50.00</td>\n",
       "      <td>1</td>\n",
       "      <td>0.00</td>\n",
       "      <td>0.0</td>\n",
       "      <td>MJF</td>\n",
       "      <td>Existing</td>\n",
       "    </tr>\n",
       "    <tr>\n",
       "      <th>3</th>\n",
       "      <td>1300.00</td>\n",
       "      <td>1</td>\n",
       "      <td>35.00</td>\n",
       "      <td>2000.0</td>\n",
       "      <td>CNC</td>\n",
       "      <td>Existing</td>\n",
       "    </tr>\n",
       "    <tr>\n",
       "      <th>9</th>\n",
       "      <td>504.04</td>\n",
       "      <td>1</td>\n",
       "      <td>34.62</td>\n",
       "      <td>650.0</td>\n",
       "      <td>Sheet Metal</td>\n",
       "      <td>Existing</td>\n",
       "    </tr>\n",
       "    <tr>\n",
       "      <th>10</th>\n",
       "      <td>1252.54</td>\n",
       "      <td>1</td>\n",
       "      <td>51.59</td>\n",
       "      <td>1450.0</td>\n",
       "      <td>Molding</td>\n",
       "      <td>Existing</td>\n",
       "    </tr>\n",
       "    <tr>\n",
       "      <th>11</th>\n",
       "      <td>1235.26</td>\n",
       "      <td>1</td>\n",
       "      <td>38.51</td>\n",
       "      <td>1880.0</td>\n",
       "      <td>CNC</td>\n",
       "      <td>Existing</td>\n",
       "    </tr>\n",
       "  </tbody>\n",
       "</table>\n",
       "</div>"
      ],
      "text/plain": [
       "    total_project_cost  created_month  gp_percent  Amount      Process  \\\n",
       "1                50.00              1        0.00     0.0          MJF   \n",
       "3              1300.00              1       35.00  2000.0          CNC   \n",
       "9               504.04              1       34.62   650.0  Sheet Metal   \n",
       "10             1252.54              1       51.59  1450.0      Molding   \n",
       "11             1235.26              1       38.51  1880.0          CNC   \n",
       "\n",
       "   lead_type  \n",
       "1   Existing  \n",
       "3   Existing  \n",
       "9   Existing  \n",
       "10  Existing  \n",
       "11  Existing  "
      ]
     },
     "execution_count": 84,
     "metadata": {},
     "output_type": "execute_result"
    }
   ],
   "source": [
    "data_created_less_six.head()"
   ]
  },
  {
   "cell_type": "markdown",
   "id": "7b80f97e",
   "metadata": {},
   "source": [
    "### Created_date upto june and the corresponding count of lead type"
   ]
  },
  {
   "cell_type": "code",
   "execution_count": 82,
   "id": "66fffd73",
   "metadata": {},
   "outputs": [
    {
     "data": {
      "image/png": "[encoded data removed]",
      "text/plain": [
       "<Figure size 1080x432 with 1 Axes>"
      ]
     },
     "metadata": {
      "needs_background": "light"
     },
     "output_type": "display_data"
    }
   ],
   "source": [
    "plt.figure(figsize=(15,6))\n",
    "sns.countplot('created_month', data = data_created_less_six,\n",
    "hue = 'lead_type' , palette = 'bright')\n",
    "plt.xticks(rotation = 90)\n",
    "plt.show()"
   ]
  },
  {
   "cell_type": "code",
   "execution_count": 83,
   "id": "2eb34f5a",
   "metadata": {},
   "outputs": [
    {
     "data": {
      "image/png": "[encoded data removed]",
      "text/plain": [
       "<Figure size 1080x432 with 1 Axes>"
      ]
     },
     "metadata": {
      "needs_background": "light"
     },
     "output_type": "display_data"
    }
   ],
   "source": [
    "plt.figure(figsize=(15,6))\n",
    "sns.countplot('created_month', data = data_created_less_six,\n",
    "hue = 'Process' , palette = 'bright')\n",
    "plt.xticks(rotation = 90)\n",
    "plt.show()"
   ]
  },
  {
   "cell_type": "code",
   "execution_count": 85,
   "id": "4e386adb",
   "metadata": {},
   "outputs": [
    {
     "data": {
      "image/png": "[encoded data removed]",
      "text/plain": [
       "<Figure size 1080x432 with 1 Axes>"
      ]
     },
     "metadata": {},
     "output_type": "display_data"
    }
   ],
   "source": []
  },
  {
   "cell_type": "markdown",
   "id": "3892646a",
   "metadata": {},
   "source": [
    "### Distribution plots of gp_Percent, Amount ,Total_project cost"
   ]
  },
  {
   "cell_type": "code",
   "execution_count": 86,
   "id": "200d6d3c",
   "metadata": {},
   "outputs": [
    {
     "data": {
      "image/png": "[encoded data removed]",
      "text/plain": [
       "<Figure size 1080x432 with 1 Axes>"
      ]
     },
     "metadata": {
      "needs_background": "light"
     },
     "output_type": "display_data"
    }
   ],
   "source": [
    "plt.figure(figsize=(15,6))\n",
    "sns.distplot(data[\"gp_percent\"])\n",
    "plt.xticks(rotation=90)\n",
    "plt.show()"
   ]
  },
  {
   "cell_type": "code",
   "execution_count": 87,
   "id": "0856e107",
   "metadata": {},
   "outputs": [
    {
     "data": {
      "image/png": "[encoded data removed]",
      "text/plain": [
       "<Figure size 1080x432 with 1 Axes>"
      ]
     },
     "metadata": {
      "needs_background": "light"
     },
     "output_type": "display_data"
    }
   ],
   "source": [
    "plt.figure(figsize=(15,6))\n",
    "sns.distplot(data[\"Amount\"])\n",
    "plt.xticks(rotation=90)\n",
    "plt.show()"
   ]
  },
  {
   "cell_type": "code",
   "execution_count": 88,
   "id": "afbffacd",
   "metadata": {},
   "outputs": [
    {
     "data": {
      "image/png": "[encoded data removed]",
      "text/plain": [
       "<Figure size 1080x432 with 1 Axes>"
      ]
     },
     "metadata": {
      "needs_background": "light"
     },
     "output_type": "display_data"
    }
   ],
   "source": [
    "plt.figure(figsize=(15,6))\n",
    "sns.distplot(data[\"total_project_cost\"])\n",
    "plt.xticks(rotation=90)\n",
    "plt.show()"
   ]
  },
  {
   "cell_type": "markdown",
   "id": "598cf5c3",
   "metadata": {},
   "source": [
    "# Large number of creation happened in which month?"
   ]
  },
  {
   "cell_type": "code",
   "execution_count": 89,
   "id": "a4f426f3",
   "metadata": {},
   "outputs": [
    {
     "data": {
      "image/png": "[encoded data removed]",
      "text/plain": [
       "<Figure size 1080x432 with 1 Axes>"
      ]
     },
     "metadata": {
      "needs_background": "light"
     },
     "output_type": "display_data"
    }
   ],
   "source": [
    "plt.figure(figsize=(15,6))\n",
    "sns.countplot('created_month',data = data,palette = 'hls')\n",
    "plt.xticks(rotation = 90)\n",
    "plt.show()"
   ]
  },
  {
   "cell_type": "markdown",
   "id": "f3943761",
   "metadata": {},
   "source": [
    "## January month have large number of creation followed by august\n"
   ]
  },
  {
   "cell_type": "code",
   "execution_count": 90,
   "id": "6983b116",
   "metadata": {},
   "outputs": [
    {
     "data": {
      "image/png": "[encoded data removed]",
      "text/plain": [
       "<Figure size 1080x432 with 1 Axes>"
      ]
     },
     "metadata": {
      "needs_background": "light"
     },
     "output_type": "display_data"
    }
   ],
   "source": [
    "plt.figure(figsize=(15,6))\n",
    "sns.countplot('created_year',data = data,palette = 'hls')\n",
    "plt.xticks(rotation = 90)\n",
    "plt.show()"
   ]
  },
  {
   "cell_type": "markdown",
   "id": "8c0fdf87",
   "metadata": {},
   "source": [
    "## Large number closing happened in which moth?"
   ]
  },
  {
   "cell_type": "code",
   "execution_count": 91,
   "id": "1b7c1ae7",
   "metadata": {},
   "outputs": [
    {
     "data": {
      "image/png": "[encoded data removed]",
      "text/plain": [
       "<Figure size 1080x432 with 1 Axes>"
      ]
     },
     "metadata": {
      "needs_background": "light"
     },
     "output_type": "display_data"
    }
   ],
   "source": [
    "plt.figure(figsize=(15,6))\n",
    "sns.countplot('close_month',data = data,palette = 'hls')\n",
    "plt.xticks(rotation = 90)\n",
    "plt.show()"
   ]
  },
  {
   "cell_type": "markdown",
   "id": "46997def",
   "metadata": {},
   "source": [
    "## August month having large number of closing happened"
   ]
  },
  {
   "cell_type": "code",
   "execution_count": 92,
   "id": "c6524418",
   "metadata": {},
   "outputs": [
    {
     "name": "stdout",
     "output_type": "stream",
     "text": [
      "<class 'pandas.core.frame.DataFrame'>\n",
      "Int64Index: 897 entries, 0 to 896\n",
      "Data columns (total 21 columns):\n",
      " #   Column              Non-Null Count  Dtype         \n",
      "---  ------              --------------  -----         \n",
      " 0   created_date        897 non-null    datetime64[ns]\n",
      " 1   close_date          897 non-null    datetime64[ns]\n",
      " 2   Multiple            897 non-null    float64       \n",
      " 3   lead_type           888 non-null    object        \n",
      " 4   sales_manager       897 non-null    object        \n",
      " 5   account_name        897 non-null    object        \n",
      " 6   opportunity_name    897 non-null    object        \n",
      " 7   Process             896 non-null    object        \n",
      " 8   Amount              897 non-null    float64       \n",
      " 9   shipping_account    897 non-null    object        \n",
      " 10  invoice_total       897 non-null    float64       \n",
      " 11  customer_po         897 non-null    object        \n",
      " 12  Facility            897 non-null    object        \n",
      " 13  total_project_cost  897 non-null    float64       \n",
      " 14  gp_percent          897 non-null    float64       \n",
      " 15  created_year        897 non-null    int64         \n",
      " 16  created_day         897 non-null    int64         \n",
      " 17  created_month       897 non-null    int64         \n",
      " 18  close_year          897 non-null    int64         \n",
      " 19  close_month         897 non-null    int64         \n",
      " 20  close_day           897 non-null    int64         \n",
      "dtypes: datetime64[ns](2), float64(5), int64(6), object(8)\n",
      "memory usage: 186.5+ KB\n"
     ]
    }
   ],
   "source": [
    "data.info()"
   ]
  },
  {
   "cell_type": "code",
   "execution_count": 108,
   "id": "a7bf48a0",
   "metadata": {},
   "outputs": [
    {
     "data": {
      "text/html": [
       "<div>\n",
       "<style scoped>\n",
       "    .dataframe tbody tr th:only-of-type {\n",
       "        vertical-align: middle;\n",
       "    }\n",
       "\n",
       "    .dataframe tbody tr th {\n",
       "        vertical-align: top;\n",
       "    }\n",
       "\n",
       "    .dataframe thead th {\n",
       "        text-align: right;\n",
       "    }\n",
       "</style>\n",
       "<table border=\"1\" class=\"dataframe\">\n",
       "  <thead>\n",
       "    <tr style=\"text-align: right;\">\n",
       "      <th></th>\n",
       "      <th>Multiple</th>\n",
       "      <th>Amount</th>\n",
       "      <th>invoice_total</th>\n",
       "      <th>total_project_cost</th>\n",
       "      <th>gp_percent</th>\n",
       "      <th>created_year</th>\n",
       "      <th>created_day</th>\n",
       "      <th>close_year</th>\n",
       "      <th>close_month</th>\n",
       "      <th>close_day</th>\n",
       "    </tr>\n",
       "    <tr>\n",
       "      <th>created_month</th>\n",
       "      <th></th>\n",
       "      <th></th>\n",
       "      <th></th>\n",
       "      <th></th>\n",
       "      <th></th>\n",
       "      <th></th>\n",
       "      <th></th>\n",
       "      <th></th>\n",
       "      <th></th>\n",
       "      <th></th>\n",
       "    </tr>\n",
       "  </thead>\n",
       "  <tbody>\n",
       "    <tr>\n",
       "      <th>1</th>\n",
       "      <td>0</td>\n",
       "      <td>1220578</td>\n",
       "      <td>1229719</td>\n",
       "      <td>825520</td>\n",
       "      <td>4609</td>\n",
       "      <td>264882</td>\n",
       "      <td>2260</td>\n",
       "      <td>264882</td>\n",
       "      <td>157</td>\n",
       "      <td>2098</td>\n",
       "    </tr>\n",
       "    <tr>\n",
       "      <th>2</th>\n",
       "      <td>1</td>\n",
       "      <td>725036</td>\n",
       "      <td>747654</td>\n",
       "      <td>503884</td>\n",
       "      <td>2882</td>\n",
       "      <td>181979</td>\n",
       "      <td>1428</td>\n",
       "      <td>181980</td>\n",
       "      <td>196</td>\n",
       "      <td>1451</td>\n",
       "    </tr>\n",
       "    <tr>\n",
       "      <th>3</th>\n",
       "      <td>0</td>\n",
       "      <td>855959</td>\n",
       "      <td>880424</td>\n",
       "      <td>543641</td>\n",
       "      <td>4273</td>\n",
       "      <td>226464</td>\n",
       "      <td>2013</td>\n",
       "      <td>226464</td>\n",
       "      <td>351</td>\n",
       "      <td>2074</td>\n",
       "    </tr>\n",
       "    <tr>\n",
       "      <th>4</th>\n",
       "      <td>0</td>\n",
       "      <td>438249</td>\n",
       "      <td>451891</td>\n",
       "      <td>243413</td>\n",
       "      <td>2630</td>\n",
       "      <td>131429</td>\n",
       "      <td>1065</td>\n",
       "      <td>131430</td>\n",
       "      <td>280</td>\n",
       "      <td>981</td>\n",
       "    </tr>\n",
       "    <tr>\n",
       "      <th>5</th>\n",
       "      <td>3</td>\n",
       "      <td>2189547</td>\n",
       "      <td>2207382</td>\n",
       "      <td>1465005</td>\n",
       "      <td>2836</td>\n",
       "      <td>149627</td>\n",
       "      <td>1125</td>\n",
       "      <td>149628</td>\n",
       "      <td>382</td>\n",
       "      <td>1079</td>\n",
       "    </tr>\n",
       "    <tr>\n",
       "      <th>6</th>\n",
       "      <td>1</td>\n",
       "      <td>1150394</td>\n",
       "      <td>1166016</td>\n",
       "      <td>779694</td>\n",
       "      <td>3505</td>\n",
       "      <td>196134</td>\n",
       "      <td>1555</td>\n",
       "      <td>196134</td>\n",
       "      <td>603</td>\n",
       "      <td>1484</td>\n",
       "    </tr>\n",
       "    <tr>\n",
       "      <th>7</th>\n",
       "      <td>2</td>\n",
       "      <td>710305</td>\n",
       "      <td>722952</td>\n",
       "      <td>445890</td>\n",
       "      <td>3610</td>\n",
       "      <td>192089</td>\n",
       "      <td>1673</td>\n",
       "      <td>192090</td>\n",
       "      <td>676</td>\n",
       "      <td>1552</td>\n",
       "    </tr>\n",
       "    <tr>\n",
       "      <th>8</th>\n",
       "      <td>2</td>\n",
       "      <td>1164401</td>\n",
       "      <td>1177204</td>\n",
       "      <td>727209</td>\n",
       "      <td>4725</td>\n",
       "      <td>258816</td>\n",
       "      <td>2004</td>\n",
       "      <td>258816</td>\n",
       "      <td>1041</td>\n",
       "      <td>1937</td>\n",
       "    </tr>\n",
       "    <tr>\n",
       "      <th>9</th>\n",
       "      <td>1</td>\n",
       "      <td>1122581</td>\n",
       "      <td>1123758</td>\n",
       "      <td>706642</td>\n",
       "      <td>3288</td>\n",
       "      <td>177935</td>\n",
       "      <td>1226</td>\n",
       "      <td>177936</td>\n",
       "      <td>784</td>\n",
       "      <td>1284</td>\n",
       "    </tr>\n",
       "    <tr>\n",
       "      <th>10</th>\n",
       "      <td>0</td>\n",
       "      <td>11000</td>\n",
       "      <td>11000</td>\n",
       "      <td>7000</td>\n",
       "      <td>36</td>\n",
       "      <td>2021</td>\n",
       "      <td>22</td>\n",
       "      <td>2022</td>\n",
       "      <td>3</td>\n",
       "      <td>4</td>\n",
       "    </tr>\n",
       "    <tr>\n",
       "      <th>11</th>\n",
       "      <td>0</td>\n",
       "      <td>36050</td>\n",
       "      <td>36050</td>\n",
       "      <td>25525</td>\n",
       "      <td>58</td>\n",
       "      <td>4042</td>\n",
       "      <td>17</td>\n",
       "      <td>4044</td>\n",
       "      <td>7</td>\n",
       "      <td>32</td>\n",
       "    </tr>\n",
       "    <tr>\n",
       "      <th>12</th>\n",
       "      <td>0</td>\n",
       "      <td>81382</td>\n",
       "      <td>82136</td>\n",
       "      <td>52824</td>\n",
       "      <td>530</td>\n",
       "      <td>28294</td>\n",
       "      <td>304</td>\n",
       "      <td>28308</td>\n",
       "      <td>26</td>\n",
       "      <td>127</td>\n",
       "    </tr>\n",
       "  </tbody>\n",
       "</table>\n",
       "</div>"
      ],
      "text/plain": [
       "               Multiple   Amount  invoice_total  total_project_cost  \\\n",
       "created_month                                                         \n",
       "1                     0  1220578        1229719              825520   \n",
       "2                     1   725036         747654              503884   \n",
       "3                     0   855959         880424              543641   \n",
       "4                     0   438249         451891              243413   \n",
       "5                     3  2189547        2207382             1465005   \n",
       "6                     1  1150394        1166016              779694   \n",
       "7                     2   710305         722952              445890   \n",
       "8                     2  1164401        1177204              727209   \n",
       "9                     1  1122581        1123758              706642   \n",
       "10                    0    11000          11000                7000   \n",
       "11                    0    36050          36050               25525   \n",
       "12                    0    81382          82136               52824   \n",
       "\n",
       "               gp_percent  created_year  created_day  close_year  close_month  \\\n",
       "created_month                                                                   \n",
       "1                    4609        264882         2260      264882          157   \n",
       "2                    2882        181979         1428      181980          196   \n",
       "3                    4273        226464         2013      226464          351   \n",
       "4                    2630        131429         1065      131430          280   \n",
       "5                    2836        149627         1125      149628          382   \n",
       "6                    3505        196134         1555      196134          603   \n",
       "7                    3610        192089         1673      192090          676   \n",
       "8                    4725        258816         2004      258816         1041   \n",
       "9                    3288        177935         1226      177936          784   \n",
       "10                     36          2021           22        2022            3   \n",
       "11                     58          4042           17        4044            7   \n",
       "12                    530         28294          304       28308           26   \n",
       "\n",
       "               close_day  \n",
       "created_month             \n",
       "1                   2098  \n",
       "2                   1451  \n",
       "3                   2074  \n",
       "4                    981  \n",
       "5                   1079  \n",
       "6                   1484  \n",
       "7                   1552  \n",
       "8                   1937  \n",
       "9                   1284  \n",
       "10                     4  \n",
       "11                    32  \n",
       "12                   127  "
      ]
     },
     "execution_count": 108,
     "metadata": {},
     "output_type": "execute_result"
    }
   ],
   "source": [
    "data.groupby(['created_month']).sum().astype('int')"
   ]
  },
  {
   "cell_type": "code",
   "execution_count": 110,
   "id": "cc21ea6f",
   "metadata": {},
   "outputs": [],
   "source": [
    "created_monthly_sum = data.groupby('created_month').sum().astype('int')"
   ]
  },
  {
   "cell_type": "code",
   "execution_count": 115,
   "id": "66dc2314",
   "metadata": {},
   "outputs": [
    {
     "data": {
      "image/png": "[encoded data removed]",
      "text/plain": [
       "<Figure size 1728x432 with 1 Axes>"
      ]
     },
     "metadata": {
      "needs_background": "light"
     },
     "output_type": "display_data"
    }
   ],
   "source": [
    "plt.figure(figsize=(24, 6)) \n",
    "sns.barplot(x=created_monthly_sum.index,y=created_monthly_sum['total_project_cost'],data=created_monthly_sum, palette='deep')\n",
    "plt.title('Monthly wise summation of total project cost',fontname='monospace', weight='bold')\n",
    "plt.xlabel('Months')\n",
    "plt.ylabel('monthly_project cost');"
   ]
  },
  {
   "cell_type": "markdown",
   "id": "5edf0b26",
   "metadata": {},
   "source": [
    "May month having highest total project cost followed by january"
   ]
  }
 ],
 "metadata": {
  "kernelspec": {
   "display_name": "Python 3",
   "language": "python",
   "name": "python3"
  },
  "language_info": {
   "codemirror_mode": {
    "name": "ipython",
    "version": 3
   },
   "file_extension": ".py",
   "mimetype": "text/x-python",
   "name": "python",
   "nbconvert_exporter": "python",
   "pygments_lexer": "ipython3",
   "version": "3.8.8"
  }
 },
 "nbformat": 4,
 "nbformat_minor": 5
}
